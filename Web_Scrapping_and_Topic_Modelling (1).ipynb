{
  "nbformat": 4,
  "nbformat_minor": 0,
  "metadata": {
    "colab": {
      "provenance": []
    },
    "kernelspec": {
      "name": "python3",
      "display_name": "Python 3"
    },
    "language_info": {
      "name": "python"
    }
  },
  "cells": [
    {
      "cell_type": "markdown",
      "source": [
        "This Python project involves web scraping and topic modeling. The steps are as follows:\n",
        "\n",
        "1. **Web Scraping:**\n",
        "   - Import necessary libraries (`requests`, `BeautifulSoup`).\n",
        "   - Define the target URL: `https://www.bajajfinserv.in/insights/personal-loan-terms-conditions`.\n",
        "   - Use a user-agent header to mimic a web browser request.\n",
        "   - Fetch the web page content and parse it using BeautifulSoup.\n",
        "   - Extract and store the relevant text content from a specific HTML `div` element with the class `aem-rte-content`.\n",
        "\n",
        "2. **Topic Modeling:**\n",
        "   - Import libraries for topic modeling (`gensim`, `pyLDAvis`, `matplotlib`), text processing (`nltk`), and word lemmatization (`WordNetLemmatizer`).\n",
        "   - Download necessary NLTK datasets (`punkt`, `stopwords`, `wordnet`, `omw-1.4`).\n",
        "   - Define a function `topic_modeling` to:\n",
        "     - Tokenize the text into words.\n",
        "     - Remove stopwords.\n",
        "     - Lemmatize the words to their base forms.\n",
        "     - Create a dictionary and a bag of words (BoW) representation of the text.\n",
        "     - Train a Latent Dirichlet Allocation (LDA) model with a specified number of topics and words.\n",
        "     - Print the top words for each topic.\n",
        "     - Visualize the topics using `pyLDAvis`.\n",
        "\n",
        "3. **Execution:**\n",
        "   - Call the `topic_modeling` function with the scraped content to perform topic modeling and visualize the results.\n",
        "\n",
        "This project combines web scraping to gather data from a web page and natural language processing (NLP) techniques to identify and visualize topics within the extracted text."
      ],
      "metadata": {
        "id": "vQHshXO2L9Wj"
      }
    },
    {
      "cell_type": "code",
      "execution_count": null,
      "metadata": {
        "colab": {
          "base_uri": "https://localhost:8080/"
        },
        "id": "CrAbbUhImcFc",
        "outputId": "8961d8d3-34f7-47a5-e2d1-620651219f34"
      },
      "outputs": [
        {
          "output_type": "execute_result",
          "data": {
            "text/plain": [
              "[' Data from the RBI reveals an increase in takers of personal loans in India in the last decade. This can be credited to the fact that it is both a collateral-free loan that doesn’t risk your assets, and is offered instantly online by lenders who often disburse funds the same or next day.\\n\\nWhile personal loan rules and regulations in India are usually governed by the RBI and almost identical amongst lenders, it is important you know the more detailed loan\\xa0terms and conditions\\xa0set by your specific lender before you sign the dotted line. So, keep the following in mind.\\n\\nThe use of the loan\\n\\nThe terms and conditions of a personal loan specify that it is versatile and you can use it for any legal purpose. You can use it towards personal needs like paying your child’s school or college fees, renovating your home, or even taking an overseas vacation.\\n\\nAdditional Read: Personal Loan Glossary & Terminology\\n\\nThe eligibility criteria to avail of the loan\\n\\nSince a personal loan is unsecured, lenders require you to meet\\xa0personal loan eligibility criteria.\\xa0You can negotiate for better interest rates and other terms with your lender, should you find yourself meeting every criterion listed here.\\n\\nTo avoid hassles, choose a lender like Bajaj Finserv, which offers fast approval based on simple eligibility criteria that are easy to match up to. To be eligible you must:\\n\\n\\nBe an Indian resident aged between 21 years to 80 years*\\nBe employed in an MNC, public or private organisation\\nMeet the minimum salary requirement based on your city of residence\\n\\n\\nAdditional Read:\\xa0Get a personal loan with low CIBIL score\\n\\nThe repayment of the loan\\n\\nThis will tell you the interest rate applicable on your personal loan and how your loan needs to be paid off. While certain sections specify the type of interest rate and an intimation of charges, other parts may state that your\\xa0personal loan\\xa0will need to be repaid in the form of EMIs or in the form of a lump sum. These conditions vary based on the personal loan you are applying for and the lender you are applying with.\\n\\nFor instance, Bajaj Finserv offers a Flexi personal loan where you can\\xa0choose to pay interest-only EMIs\\xa0for the initial part of the tenor and repay the principal later. The terms and conditions for this loan will be different compared to those for a regular personal loan.\\n\\nForeclosure, prepayment policies and their charges\\n\\nThis section tells you whether you can make part-prepayments and foreclose your loan. It also tells you of the cost involved in doing so. Some personal loans like the\\xa0Flexi personal loan facility\\xa0allow you to make part-prepayments and re-withdraw the funds when needed. Here, you can also find lenders specifying how much of a part-prepayment you can make, so it is best for you to pay close attention. Making part-prepayments or a foreclosure can often help you become debt-free faster and save money.\\n\\nOther charges applicable\\n\\nThe cost of taking a personal loan doesn’t end at interest charges, foreclosure and part-prepayment charges. There are processing charges, penal charges, statement charges, EMI bounce charges, and more. Thus, it is important you read all the personal loan terms and conditions relating to the various charges involved, whether you are likely to incur them or not. It is here that you can spot any unnecessary hidden charges and avoid borrowing from a lender that will make your loan experience an expensive one.\\n\\nAdditional Read:\\xa0Best personal loan lenders in India\\n\\nIf you are looking for a lender with zero hidden charges, consider Bajaj Finserv. Here, your expenses are kept to a minimum and your repayment is affordable despite the high sanction of up to Rs. 25 lakh. What’s more, you can\\xa0check your pre-approved offer\\xa0to enjoy a customised deal that caters to your unique requirements and fiscal potential.\\n\\nNow that you are aware of the basic loan terms, you are all set to make good borrowing decisions. Just ensure you read the fine print thoroughly before signing the agreement.\\n\\xa0\\n']"
            ]
          },
          "metadata": {},
          "execution_count": 1
        }
      ],
      "source": [
        "import requests\n",
        "from bs4 import BeautifulSoup\n",
        "\n",
        "url = 'https://www.bajajfinserv.in/insights/personal-loan-terms-conditions'\n",
        "\n",
        "\n",
        "headers={'user-agent':'Mozilla/5.0 (Windows NT 10.0; Win64; x64) AppleWebKit/537.36 (KHTML, like Gecko) Chrome/106.0.0.0 Safari/537.36'}\n",
        "data=[]\n",
        "\n",
        "#url1\n",
        "response0 = requests.get(url,headers=headers)\n",
        "soup0 = BeautifulSoup(response0.content, 'html.parser')\n",
        "content = soup0.find('div',class_='aem-rte-content').text\n",
        "data.append(content)\n",
        "data\n",
        "\n"
      ]
    },
    {
      "cell_type": "code",
      "source": [
        "!pip install pyLDAvis"
      ],
      "metadata": {
        "colab": {
          "base_uri": "https://localhost:8080/"
        },
        "id": "qKXAuGiamySs",
        "outputId": "27a2c156-d45f-4bf2-c524-9c833da723f7"
      },
      "execution_count": null,
      "outputs": [
        {
          "output_type": "stream",
          "name": "stdout",
          "text": [
            "Looking in indexes: https://pypi.org/simple, https://us-python.pkg.dev/colab-wheels/public/simple/\n",
            "Collecting pyLDAvis\n",
            "  Downloading pyLDAvis-3.4.0-py3-none-any.whl (2.6 MB)\n",
            "\u001b[2K     \u001b[90m━━━━━━━━━━━━━━━━━━━━━━━━━━━━━━━━━━━━━━━━\u001b[0m \u001b[32m2.6/2.6 MB\u001b[0m \u001b[31m25.6 MB/s\u001b[0m eta \u001b[36m0:00:00\u001b[0m\n",
            "\u001b[?25hCollecting joblib>=1.2.0\n",
            "  Downloading joblib-1.2.0-py3-none-any.whl (297 kB)\n",
            "\u001b[2K     \u001b[90m━━━━━━━━━━━━━━━━━━━━━━━━━━━━━━━━━━━━━━\u001b[0m \u001b[32m298.0/298.0 KB\u001b[0m \u001b[31m22.9 MB/s\u001b[0m eta \u001b[36m0:00:00\u001b[0m\n",
            "\u001b[?25hRequirement already satisfied: pandas>=1.3.4 in /usr/local/lib/python3.9/dist-packages (from pyLDAvis) (1.4.4)\n",
            "Collecting funcy\n",
            "  Downloading funcy-2.0-py2.py3-none-any.whl (30 kB)\n",
            "Requirement already satisfied: numexpr in /usr/local/lib/python3.9/dist-packages (from pyLDAvis) (2.8.4)\n",
            "Requirement already satisfied: gensim in /usr/local/lib/python3.9/dist-packages (from pyLDAvis) (4.3.1)\n",
            "Requirement already satisfied: setuptools in /usr/local/lib/python3.9/dist-packages (from pyLDAvis) (67.6.0)\n",
            "Requirement already satisfied: scikit-learn>=1.0.0 in /usr/local/lib/python3.9/dist-packages (from pyLDAvis) (1.2.2)\n",
            "Requirement already satisfied: scipy in /usr/local/lib/python3.9/dist-packages (from pyLDAvis) (1.10.1)\n",
            "Requirement already satisfied: jinja2 in /usr/local/lib/python3.9/dist-packages (from pyLDAvis) (3.1.2)\n",
            "Requirement already satisfied: numpy>=1.22.0 in /usr/local/lib/python3.9/dist-packages (from pyLDAvis) (1.22.4)\n",
            "Requirement already satisfied: python-dateutil>=2.8.1 in /usr/local/lib/python3.9/dist-packages (from pandas>=1.3.4->pyLDAvis) (2.8.2)\n",
            "Requirement already satisfied: pytz>=2020.1 in /usr/local/lib/python3.9/dist-packages (from pandas>=1.3.4->pyLDAvis) (2022.7.1)\n",
            "Requirement already satisfied: threadpoolctl>=2.0.0 in /usr/local/lib/python3.9/dist-packages (from scikit-learn>=1.0.0->pyLDAvis) (3.1.0)\n",
            "Requirement already satisfied: smart-open>=1.8.1 in /usr/local/lib/python3.9/dist-packages (from gensim->pyLDAvis) (6.3.0)\n",
            "Requirement already satisfied: MarkupSafe>=2.0 in /usr/local/lib/python3.9/dist-packages (from jinja2->pyLDAvis) (2.1.2)\n",
            "Requirement already satisfied: six>=1.5 in /usr/local/lib/python3.9/dist-packages (from python-dateutil>=2.8.1->pandas>=1.3.4->pyLDAvis) (1.16.0)\n",
            "Installing collected packages: funcy, joblib, pyLDAvis\n",
            "  Attempting uninstall: joblib\n",
            "    Found existing installation: joblib 1.1.1\n",
            "    Uninstalling joblib-1.1.1:\n",
            "      Successfully uninstalled joblib-1.1.1\n",
            "\u001b[31mERROR: pip's dependency resolver does not currently take into account all the packages that are installed. This behaviour is the source of the following dependency conflicts.\n",
            "pandas-profiling 3.2.0 requires joblib~=1.1.0, but you have joblib 1.2.0 which is incompatible.\u001b[0m\u001b[31m\n",
            "\u001b[0mSuccessfully installed funcy-2.0 joblib-1.2.0 pyLDAvis-3.4.0\n"
          ]
        }
      ]
    },
    {
      "cell_type": "code",
      "source": [
        "# Import necessary libraries\n",
        "import gensim\n",
        "from gensim import corpora\n",
        "import pyLDAvis.gensim_models\n",
        "import matplotlib.pyplot as plt\n",
        "from nltk.stem import WordNetLemmatizer\n",
        "from nltk.corpus import stopwords\n",
        "import nltk\n",
        "nltk.download('punkt')\n",
        "nltk.download('stopwords')\n",
        "nltk.download('wordnet')\n",
        "nltk.download('omw-1.4')\n",
        "\n",
        "# Define a function for topic modeling\n",
        "def topic_modeling(text, num_topics=5, num_words=10):\n",
        "    # Tokenize the text\n",
        "    text_tokens = gensim.utils.simple_preprocess(text, deacc=True, min_len=3)\n",
        "    print(text_tokens)\n",
        "\n",
        "    # Remove stopwords\n",
        "    stop_words = set(stopwords.words('english'))\n",
        "    filtered_tokens = [token for token in text_tokens if token not in stop_words]\n",
        "\n",
        "    # Lemmatize words\n",
        "    lemmatizer = WordNetLemmatizer()\n",
        "    lemmatized_tokens = [lemmatizer.lemmatize(token) for token in filtered_tokens]\n",
        "\n",
        "    # Create a dictionary from the tokenized text\n",
        "    dictionary = corpora.Dictionary([lemmatized_tokens])\n",
        "\n",
        "    # Create a bag of words from the dictionary\n",
        "    bow_corpus = [dictionary.doc2bow(lemmatized_tokens)]\n",
        "\n",
        "    # Train the LDA model\n",
        "    lda_model = gensim.models.LdaModel(bow_corpus, num_topics=num_topics, id2word=dictionary, passes=10)\n",
        "\n",
        "    # Print the top words for each topic\n",
        "    for idx, topic in lda_model.print_topics(num_topics=num_topics, num_words=num_words):\n",
        "        print(\"Topic: {} \\nWords: {}\".format(idx, topic))\n",
        "\n",
        "    # Visualize the topics\n",
        "    pyLDAvis.enable_notebook()\n",
        "    vis = pyLDAvis.gensim_models.prepare(lda_model, bow_corpus, dictionary, R=30)\n",
        "    return vis\n",
        "\n",
        "# Perform topic modeling and visualization\n",
        "topic_modeling(content)"
      ],
      "metadata": {
        "colab": {
          "base_uri": "https://localhost:8080/",
          "height": 1000
        },
        "id": "jz2SyS8nPVIh",
        "outputId": "e364fdd6-6808-4f89-bdc6-7f868ebc2432"
      },
      "execution_count": null,
      "outputs": [
        {
          "output_type": "stream",
          "name": "stderr",
          "text": [
            "[nltk_data] Downloading package punkt to /root/nltk_data...\n",
            "[nltk_data]   Unzipping tokenizers/punkt.zip.\n",
            "[nltk_data] Downloading package stopwords to /root/nltk_data...\n",
            "[nltk_data]   Unzipping corpora/stopwords.zip.\n",
            "[nltk_data] Downloading package wordnet to /root/nltk_data...\n",
            "[nltk_data] Downloading package omw-1.4 to /root/nltk_data...\n"
          ]
        },
        {
          "output_type": "stream",
          "name": "stdout",
          "text": [
            "['data', 'from', 'the', 'rbi', 'reveals', 'increase', 'takers', 'personal', 'loans', 'india', 'the', 'last', 'decade', 'this', 'can', 'credited', 'the', 'fact', 'that', 'both', 'collateral', 'free', 'loan', 'that', 'doesn', 'risk', 'your', 'assets', 'and', 'offered', 'instantly', 'online', 'lenders', 'who', 'often', 'disburse', 'funds', 'the', 'same', 'next', 'day', 'while', 'personal', 'loan', 'rules', 'and', 'regulations', 'india', 'are', 'usually', 'governed', 'the', 'rbi', 'and', 'almost', 'identical', 'amongst', 'lenders', 'important', 'you', 'know', 'the', 'more', 'detailed', 'loan', 'terms', 'and', 'conditions', 'set', 'your', 'specific', 'lender', 'before', 'you', 'sign', 'the', 'dotted', 'line', 'keep', 'the', 'following', 'mind', 'the', 'use', 'the', 'loan', 'the', 'terms', 'and', 'conditions', 'personal', 'loan', 'specify', 'that', 'versatile', 'and', 'you', 'can', 'use', 'for', 'any', 'legal', 'purpose', 'you', 'can', 'use', 'towards', 'personal', 'needs', 'like', 'paying', 'your', 'child', 'school', 'college', 'fees', 'renovating', 'your', 'home', 'even', 'taking', 'overseas', 'vacation', 'additional', 'read', 'personal', 'loan', 'glossary', 'terminology', 'the', 'eligibility', 'criteria', 'avail', 'the', 'loan', 'since', 'personal', 'loan', 'unsecured', 'lenders', 'require', 'you', 'meet', 'personal', 'loan', 'eligibility', 'criteria', 'you', 'can', 'negotiate', 'for', 'better', 'interest', 'rates', 'and', 'other', 'terms', 'with', 'your', 'lender', 'should', 'you', 'find', 'yourself', 'meeting', 'every', 'criterion', 'listed', 'here', 'avoid', 'hassles', 'choose', 'lender', 'like', 'bajaj', 'finserv', 'which', 'offers', 'fast', 'approval', 'based', 'simple', 'eligibility', 'criteria', 'that', 'are', 'easy', 'match', 'eligible', 'you', 'must', 'indian', 'resident', 'aged', 'between', 'years', 'years', 'employed', 'mnc', 'public', 'private', 'organisation', 'meet', 'the', 'minimum', 'salary', 'requirement', 'based', 'your', 'city', 'residence', 'additional', 'read', 'get', 'personal', 'loan', 'with', 'low', 'cibil', 'score', 'the', 'repayment', 'the', 'loan', 'this', 'will', 'tell', 'you', 'the', 'interest', 'rate', 'applicable', 'your', 'personal', 'loan', 'and', 'how', 'your', 'loan', 'needs', 'paid', 'off', 'while', 'certain', 'sections', 'specify', 'the', 'type', 'interest', 'rate', 'and', 'intimation', 'charges', 'other', 'parts', 'may', 'state', 'that', 'your', 'personal', 'loan', 'will', 'need', 'repaid', 'the', 'form', 'emis', 'the', 'form', 'lump', 'sum', 'these', 'conditions', 'vary', 'based', 'the', 'personal', 'loan', 'you', 'are', 'applying', 'for', 'and', 'the', 'lender', 'you', 'are', 'applying', 'with', 'for', 'instance', 'bajaj', 'finserv', 'offers', 'flexi', 'personal', 'loan', 'where', 'you', 'can', 'choose', 'pay', 'interest', 'only', 'emis', 'for', 'the', 'initial', 'part', 'the', 'tenor', 'and', 'repay', 'the', 'principal', 'later', 'the', 'terms', 'and', 'conditions', 'for', 'this', 'loan', 'will', 'different', 'compared', 'those', 'for', 'regular', 'personal', 'loan', 'foreclosure', 'prepayment', 'policies', 'and', 'their', 'charges', 'this', 'section', 'tells', 'you', 'whether', 'you', 'can', 'make', 'part', 'prepayments', 'and', 'foreclose', 'your', 'loan', 'also', 'tells', 'you', 'the', 'cost', 'involved', 'doing', 'some', 'personal', 'loans', 'like', 'the', 'flexi', 'personal', 'loan', 'facility', 'allow', 'you', 'make', 'part', 'prepayments', 'and', 'withdraw', 'the', 'funds', 'when', 'needed', 'here', 'you', 'can', 'also', 'find', 'lenders', 'specifying', 'how', 'much', 'part', 'prepayment', 'you', 'can', 'make', 'best', 'for', 'you', 'pay', 'close', 'attention', 'making', 'part', 'prepayments', 'foreclosure', 'can', 'often', 'help', 'you', 'become', 'debt', 'free', 'faster', 'and', 'save', 'money', 'other', 'charges', 'applicable', 'the', 'cost', 'taking', 'personal', 'loan', 'doesn', 'end', 'interest', 'charges', 'foreclosure', 'and', 'part', 'prepayment', 'charges', 'there', 'are', 'processing', 'charges', 'penal', 'charges', 'statement', 'charges', 'emi', 'bounce', 'charges', 'and', 'more', 'thus', 'important', 'you', 'read', 'all', 'the', 'personal', 'loan', 'terms', 'and', 'conditions', 'relating', 'the', 'various', 'charges', 'involved', 'whether', 'you', 'are', 'likely', 'incur', 'them', 'not', 'here', 'that', 'you', 'can', 'spot', 'any', 'unnecessary', 'hidden', 'charges', 'and', 'avoid', 'borrowing', 'from', 'lender', 'that', 'will', 'make', 'your', 'loan', 'experience', 'expensive', 'one', 'additional', 'read', 'best', 'personal', 'loan', 'lenders', 'india', 'you', 'are', 'looking', 'for', 'lender', 'with', 'zero', 'hidden', 'charges', 'consider', 'bajaj', 'finserv', 'here', 'your', 'expenses', 'are', 'kept', 'minimum', 'and', 'your', 'repayment', 'affordable', 'despite', 'the', 'high', 'sanction', 'lakh', 'what', 'more', 'you', 'can', 'check', 'your', 'pre', 'approved', 'offer', 'enjoy', 'customised', 'deal', 'that', 'caters', 'your', 'unique', 'requirements', 'and', 'fiscal', 'potential', 'now', 'that', 'you', 'are', 'aware', 'the', 'basic', 'loan', 'terms', 'you', 'are', 'all', 'set', 'make', 'good', 'borrowing', 'decisions', 'just', 'ensure', 'you', 'read', 'the', 'fine', 'print', 'thoroughly', 'before', 'signing', 'the', 'agreement']\n",
            "Topic: 0 \n",
            "Words: 0.005*\"loan\" + 0.005*\"personal\" + 0.005*\"charge\" + 0.005*\"lender\" + 0.005*\"part\" + 0.005*\"interest\" + 0.005*\"term\" + 0.005*\"prepayment\" + 0.005*\"read\" + 0.005*\"tell\"\n",
            "Topic: 1 \n",
            "Words: 0.005*\"loan\" + 0.005*\"personal\" + 0.005*\"charge\" + 0.005*\"lender\" + 0.005*\"part\" + 0.005*\"interest\" + 0.005*\"prepayment\" + 0.005*\"make\" + 0.005*\"term\" + 0.005*\"criterion\"\n",
            "Topic: 2 \n",
            "Words: 0.006*\"loan\" + 0.005*\"personal\" + 0.005*\"charge\" + 0.005*\"lender\" + 0.005*\"part\" + 0.005*\"term\" + 0.005*\"read\" + 0.005*\"prepayment\" + 0.005*\"condition\" + 0.005*\"make\"\n",
            "Topic: 3 \n",
            "Words: 0.005*\"loan\" + 0.005*\"personal\" + 0.005*\"charge\" + 0.005*\"lender\" + 0.005*\"part\" + 0.005*\"prepayment\" + 0.005*\"term\" + 0.005*\"interest\" + 0.005*\"read\" + 0.005*\"condition\"\n",
            "Topic: 4 \n",
            "Words: 0.065*\"loan\" + 0.044*\"personal\" + 0.029*\"charge\" + 0.027*\"lender\" + 0.017*\"part\" + 0.015*\"prepayment\" + 0.015*\"term\" + 0.012*\"make\" + 0.012*\"condition\" + 0.012*\"read\"\n"
          ]
        },
        {
          "output_type": "stream",
          "name": "stderr",
          "text": [
            "/usr/local/lib/python3.9/dist-packages/pyLDAvis/_prepare.py:243: FutureWarning: In a future version of pandas all arguments of DataFrame.drop except for the argument 'labels' will be keyword-only.\n",
            "  default_term_info = default_term_info.sort_values(\n"
          ]
        },
        {
          "output_type": "execute_result",
          "data": {
            "text/plain": [
              "PreparedData(topic_coordinates=              x    y  topics  cluster       Freq\n",
              "topic                                           \n",
              "4     -0.047966 -0.0       1        1  99.785879\n",
              "2      0.010688  0.0       2        1   0.053532\n",
              "0      0.012149 -0.0       3        1   0.053530\n",
              "1      0.012410  0.0       4        1   0.053530\n",
              "3      0.012719 -0.0       5        1   0.053529, topic_info=           Term       Freq      Total Category  logprob  loglift\n",
              "117        loan  24.000000  24.000000  Default  30.0000  30.0000\n",
              "149    personal  16.000000  16.000000  Default  29.0000  29.0000\n",
              "27       charge  10.000000  10.000000  Default  28.0000  28.0000\n",
              "112      lender  10.000000  10.000000  Default  27.0000  27.0000\n",
              "145        part   6.000000   6.000000  Default  26.0000  26.0000\n",
              "..          ...        ...        ...      ...      ...      ...\n",
              "0    additional   0.000921   2.862307   Topic5  -5.3792  -0.5092\n",
              "113        like   0.000920   2.861791   Topic5  -5.3799  -0.5098\n",
              "83         fund   0.000919   1.968414   Topic5  -5.3812  -0.1369\n",
              "82         free   0.000919   1.969265   Topic5  -5.3814  -0.1375\n",
              "161         rbi   0.000919   1.968511   Topic5  -5.3814  -0.1371\n",
              "\n",
              "[314 rows x 6 columns], token_table=      Topic      Freq        Term\n",
              "term                             \n",
              "0         1  1.048106  additional\n",
              "1         1  0.929736  affordable\n",
              "3         1  0.929839   agreement\n",
              "4         1  0.929152       allow\n",
              "5         1  0.929518      almost\n",
              "...     ...       ...         ...\n",
              "211       1  0.929298     various\n",
              "213       1  0.929340   versatile\n",
              "215       1  0.929267    withdraw\n",
              "216       1  1.015619        year\n",
              "217       1  0.929304        zero\n",
              "\n",
              "[143 rows x 3 columns], R=30, lambda_step=0.01, plot_opts={'xlab': 'PC1', 'ylab': 'PC2'}, topic_order=[5, 3, 1, 2, 4])"
            ],
            "text/html": [
              "\n",
              "<link rel=\"stylesheet\" type=\"text/css\" href=\"https://cdn.jsdelivr.net/gh/bmabey/pyLDAvis@3.4.0/pyLDAvis/js/ldavis.v1.0.0.css\">\n",
              "\n",
              "\n",
              "<div id=\"ldavis_el1381401349326963045575549066\" style=\"background-color:white;\"></div>\n",
              "<script type=\"text/javascript\">\n",
              "\n",
              "var ldavis_el1381401349326963045575549066_data = {\"mdsDat\": {\"x\": [-0.04796609936504723, 0.010688106854797238, 0.01214933632066114, 0.012409853287280186, 0.012718802902308667], \"y\": [-0.0, 0.0, -0.0, 0.0, -0.0], \"topics\": [1, 2, 3, 4, 5], \"cluster\": [1, 1, 1, 1, 1], \"Freq\": [99.78587900515711, 0.05353175628909047, 0.053530091550042215, 0.053529689917194916, 0.0535294570865588]}, \"tinfo\": {\"Term\": [\"loan\", \"personal\", \"charge\", \"lender\", \"part\", \"term\", \"prepayment\", \"interest\", \"read\", \"condition\", \"make\", \"criterion\", \"foreclosure\", \"tell\", \"finserv\", \"rate\", \"use\", \"like\", \"need\", \"additional\", \"bajaj\", \"india\", \"eligibility\", \"offer\", \"based\", \"applying\", \"set\", \"requirement\", \"flexi\", \"best\", \"loan\", \"personal\", \"charge\", \"lender\", \"part\", \"prepayment\", \"term\", \"make\", \"condition\", \"read\", \"interest\", \"criterion\", \"based\", \"offer\", \"eligibility\", \"india\", \"bajaj\", \"additional\", \"need\", \"like\", \"use\", \"rate\", \"finserv\", \"tell\", \"foreclosure\", \"meet\", \"also\", \"choose\", \"find\", \"important\", \"purpose\", \"much\", \"consider\", \"low\", \"organisation\", \"rule\", \"state\", \"mind\", \"customised\", \"agreement\", \"emi\", \"disburse\", \"sign\", \"home\", \"line\", \"negotiate\", \"indian\", \"affordable\", \"usually\", \"next\", \"thoroughly\", \"meeting\", \"following\", \"expense\", \"penal\", \"approval\", \"fine\", \"almost\", \"ensure\", \"debt\", \"incur\", \"private\", \"loan\", \"personal\", \"charge\", \"lender\", \"part\", \"term\", \"read\", \"condition\", \"prepayment\", \"make\", \"foreclosure\", \"interest\", \"criterion\", \"applicable\", \"rate\", \"india\", \"rbi\", \"flexi\", \"best\", \"form\", \"offer\", \"fund\", \"bajaj\", \"tell\", \"finserv\", \"additional\", \"like\", \"use\", \"borrowing\", \"set\", \"eligibility\", \"need\", \"despite\", \"cibil\", \"instance\", \"easy\", \"school\", \"sanction\", \"meeting\", \"paying\", \"renovating\", \"paid\", \"risk\", \"purpose\", \"good\", \"end\", \"hassle\", \"listed\", \"data\", \"approval\", \"later\", \"score\", \"signing\", \"zero\", \"thus\", \"fine\", \"match\", \"mnc\", \"repay\", \"emi\", \"resident\", \"tenor\", \"likely\", \"allow\", \"compared\", \"loan\", \"personal\", \"charge\", \"part\", \"interest\", \"lender\", \"term\", \"prepayment\", \"read\", \"tell\", \"use\", \"foreclosure\", \"rate\", \"finserv\", \"like\", \"additional\", \"need\", \"make\", \"bajaj\", \"based\", \"eligibility\", \"best\", \"condition\", \"criterion\", \"flexi\", \"india\", \"offer\", \"year\", \"free\", \"important\", \"unnecessary\", \"indian\", \"rule\", \"asset\", \"state\", \"needed\", \"fiscal\", \"affordable\", \"facility\", \"organisation\", \"purpose\", \"risk\", \"listed\", \"fast\", \"regulation\", \"processing\", \"detailed\", \"foreclose\", \"regular\", \"attention\", \"fact\", \"various\", \"simple\", \"city\", \"sanction\", \"help\", \"basic\", \"online\", \"versatile\", \"statement\", \"collateral\", \"terminology\", \"spot\", \"loan\", \"personal\", \"charge\", \"lender\", \"interest\", \"part\", \"prepayment\", \"make\", \"criterion\", \"like\", \"term\", \"find\", \"condition\", \"need\", \"finserv\", \"applying\", \"eligibility\", \"set\", \"additional\", \"section\", \"taking\", \"read\", \"tell\", \"rate\", \"use\", \"bajaj\", \"based\", \"requirement\", \"cost\", \"foreclosure\", \"risk\", \"easy\", \"disburse\", \"statement\", \"agreement\", \"score\", \"city\", \"may\", \"making\", \"enjoy\", \"residence\", \"despite\", \"online\", \"simple\", \"allow\", \"fact\", \"intimation\", \"become\", \"next\", \"penal\", \"offered\", \"withdraw\", \"later\", \"following\", \"fine\", \"purpose\", \"deal\", \"regular\", \"fee\", \"experience\", \"incur\", \"instance\", \"one\", \"every\", \"loan\", \"personal\", \"charge\", \"lender\", \"part\", \"prepayment\", \"interest\", \"term\", \"criterion\", \"read\", \"condition\", \"need\", \"make\", \"india\", \"use\", \"bajaj\", \"requirement\", \"specify\", \"eligibility\", \"finserv\", \"based\", \"offer\", \"foreclosure\", \"tell\", \"rate\", \"additional\", \"like\", \"fund\", \"free\", \"rbi\"], \"Freq\": [24.0, 16.0, 10.0, 10.0, 6.0, 5.0, 5.0, 4.0, 4.0, 4.0, 4.0, 3.0, 2.0, 2.0, 2.0, 2.0, 2.0, 2.0, 2.0, 2.0, 2.0, 2.0, 2.0, 2.0, 2.0, 1.0, 1.0, 1.0, 1.0, 1.0, 24.283057238715706, 16.253596666628336, 10.893858628487163, 10.01099344547579, 6.428155191678504, 5.537493739426835, 5.537145366718352, 4.646102264365151, 4.645824259477386, 4.643665735242834, 4.641452095326044, 3.7505022390012828, 2.8601886394988316, 2.8597347150592705, 2.859387728908831, 2.858882675141408, 2.8586159360377486, 2.85861090976484, 2.8583034405186463, 2.858092337056491, 2.8578555822705267, 2.857666490417315, 2.857663890620983, 2.8573955916395244, 2.857044619134709, 1.9669045127074773, 1.9664701734002838, 1.96611417462256, 1.9659607866389741, 1.965847955478167, 0.0009125769454286848, 0.0009119289664202956, 0.0009117179943482572, 0.0009118187848842156, 0.0009115187377813211, 0.0009112661105800306, 0.0009111104617265304, 0.0009113815919874664, 0.0009110149710619277, 0.0009105492332440168, 0.0009107440267613902, 0.0009106141334230748, 0.0009108885179909837, 0.0009108956774663238, 0.0009108265931783007, 0.0009107013488499466, 0.0009103685727169254, 0.000910323942221298, 0.0009107990710393306, 0.0009102605297254276, 0.0009105250583922187, 0.0009101719195955674, 0.0009101718266153683, 0.0009103084145280277, 0.000910054857524745, 0.0009101070194165095, 0.0009097586226100186, 0.0009099245922656327, 0.0009103824267666096, 0.0009100692694556246, 0.0009100892601984577, 0.0009100356106235058, 0.001206716179444726, 0.0010781476230079154, 0.001007578255242793, 0.0009839764404124757, 0.0009670778470847845, 0.0009627137284540263, 0.0009568299414471578, 0.0009515988754388389, 0.0009536386750494058, 0.0009461891944678115, 0.0009343191562745302, 0.0009432462781821859, 0.0009392240477439727, 0.0009235879395613393, 0.0009303583857480039, 0.0009301617326266461, 0.0009230117412667507, 0.0009228891933641742, 0.0009225054640819784, 0.0009222999778416942, 0.000929039275661619, 0.0009221000704133635, 0.0009279301148650808, 0.0009274979428990895, 0.0009265802283327528, 0.0009264566576479847, 0.0009257584693320147, 0.000925448752288401, 0.0009219498144114182, 0.0009218860299947508, 0.000922387658169562, 0.0009219698981344505, 0.0009135226892189674, 0.0009141902662883295, 0.0009138018070967147, 0.0009135686200089765, 0.0009136464420155302, 0.0009134021906281745, 0.0009132908038135372, 0.000913284109447382, 0.0009131584041273573, 0.000913068866980032, 0.0009127936541492086, 0.000912386785450667, 0.000913251660366991, 0.0009130228432127152, 0.0009130555712250294, 0.0009127361011957357, 0.0009129324692696205, 0.0009128917452088433, 0.00091300396881925, 0.0009126717608988, 0.0009130011795000187, 0.0009128694306549928, 0.0009125857568891677, 0.0009123495015502751, 0.00091265632666572, 0.0009125881742991682, 0.0009125893830041684, 0.0009123359268633493, 0.0009127745008238202, 0.0009125491238299297, 0.0009125746925895501, 0.0009127209458945789, 0.0009125235550703093, 0.0010641502046662959, 0.0010141300867095313, 0.000986935339931873, 0.0009558384285269085, 0.0009452415258352082, 0.0009589563295636758, 0.0009432006739309605, 0.0009412176539121088, 0.0009358624399199013, 0.000930646598911952, 0.0009299827409348983, 0.0009283640989849644, 0.0009277683003971549, 0.000926894406681983, 0.0009259691894929548, 0.0009250852542285501, 0.0009249234737131336, 0.0009292698839166811, 0.000924124984594515, 0.0009240460468602687, 0.0009232973006012752, 0.0009197695555921196, 0.0009274022487366983, 0.000925389197047456, 0.00091936910232781, 0.0009219772087864001, 0.0009203696311360838, 0.0009189748785431171, 0.0009187791613103863, 0.0009186782809315203, 0.0009152778348549116, 0.0009141487269017622, 0.0009140598412624992, 0.00091441417512362, 0.0009140779717014702, 0.0009142996279399672, 0.0009141270633516071, 0.0009139230726690306, 0.00091384497231654, 0.0009135852886445089, 0.0009130005587435408, 0.0009131848383847744, 0.0009134237882727516, 0.0009134724150398379, 0.0009136358679204075, 0.0009132780009481025, 0.000913472508016448, 0.0009134382926239284, 0.0009133726511371923, 0.0009132024109640848, 0.0009131246825180347, 0.000913412166196488, 0.0009131332363661646, 0.0009131635467410598, 0.0009131609433959768, 0.0009131919975837527, 0.0009129989781411689, 0.0009130707560841721, 0.0009131879995895181, 0.0009130084617554, 0.0009132703768660736, 0.0009131085975644861, 0.0009131873487532474, 0.0010656188749372211, 0.0009974822678922482, 0.0009742799548398421, 0.0009564648925303032, 0.0009385220803584762, 0.000939645516738409, 0.0009376118393455207, 0.0009352082080210134, 0.0009313043061158063, 0.0009264797498173116, 0.0009325663706214098, 0.0009221069668673308, 0.0009299085412448677, 0.0009251385622165064, 0.0009246045975446571, 0.0009211182535954443, 0.0009234449002867823, 0.0009199552091796056, 0.000923398969841389, 0.000919837407814599, 0.0009194505321399403, 0.0009270231981033918, 0.0009220570384277029, 0.0009215309767677129, 0.0009205949812337575, 0.0009202275376706114, 0.0009195662880195246, 0.0009192508183814287, 0.0009191589574906422, 0.0009191218598232092, 0.0009147456559738177, 0.000914761090023964, 0.0009142586466083589, 0.0009144097329426221, 0.0009139928276362615, 0.000914231032675266, 0.0009139839019205142, 0.0009142668285144605, 0.0009140356896670894, 0.0009139210500054608, 0.0009138862769045289, 0.0009135694139955019, 0.0009137722880763401, 0.0009136734543696806, 0.0009140375491912034, 0.0009135862426887336, 0.0009134571917152215, 0.0009136280819812988, 0.0009135117687479676, 0.0009135629056611028, 0.0009139245831012774, 0.0009137185478294453, 0.000913638588292543, 0.0009133051756189013, 0.0009131590170235402, 0.0009126185463398037, 0.0009137432795001616, 0.0009133970361101333, 0.00091331428728706, 0.000913651326032724, 0.0009134600739775982, 0.0009134518920714966, 0.0009133970361101333, 0.0009133873665847404, 0.0010117167703045551, 0.0009902189979749182, 0.0009663638139497474, 0.0009591337982420723, 0.0009480051042769676, 0.0009407197677269007, 0.0009359040651526481, 0.0009363749896345207, 0.0009310019876832998, 0.0009319107371178156, 0.0009318825653274884, 0.0009252766059124744, 0.0009287625627927999, 0.0009241773482324784, 0.0009235011322884194, 0.0009233956042949494, 0.0009195820922419415, 0.0009194696840092498, 0.0009227022807290415, 0.0009224093127048795, 0.0009223430206702152, 0.0009218413210642558, 0.0009217387683093682, 0.0009216266390052935, 0.0009207827869623566, 0.0009207713508890555, 0.0009201266538787288, 0.0009189161036805095, 0.0009187078369797406, 0.0009186980744781421], \"Total\": [24.0, 16.0, 10.0, 10.0, 6.0, 5.0, 5.0, 4.0, 4.0, 4.0, 4.0, 3.0, 2.0, 2.0, 2.0, 2.0, 2.0, 2.0, 2.0, 2.0, 2.0, 2.0, 2.0, 2.0, 2.0, 1.0, 1.0, 1.0, 1.0, 1.0, 24.287405440745058, 16.25767664560392, 10.897793785851125, 10.014851976936539, 6.431965758575131, 5.541266927362869, 5.5409202224809935, 4.649841694214349, 4.649565051708134, 4.647417361559423, 4.645215009275573, 3.7542291585398737, 2.863876432162752, 2.863424741088013, 2.8630795610486177, 2.86257699004045, 2.862311614279174, 2.862306621997447, 2.862000749058623, 2.861790671119012, 2.8615551098772722, 2.86136693086719, 2.861364379166247, 2.8610974198587686, 2.8607481630181013, 1.9705680963477885, 1.9701359469353337, 1.9697816990030446, 1.9696291456950603, 1.969516846059265, 1.075030984232465, 1.0759299538132456, 1.0757750988768775, 1.0758988305245287, 1.0757136256506648, 1.075460043328592, 1.0755029871975639, 1.07601376814133, 1.0758473603758545, 1.0754544484225763, 1.0757042305666242, 1.07555834788414, 1.0759598828642083, 1.0760572291804655, 1.0760644741059957, 1.0759400514151847, 1.0755580043070518, 1.0755736087720882, 1.076307535712189, 1.0757359702745093, 1.0761283664427517, 1.0757662294828172, 1.0757717517066099, 1.0760678408104458, 1.0759023817445563, 1.075983511804977, 1.075609137638027, 1.0758264182051482, 1.0763685857401784, 1.0760377516779833, 1.0761100933554815, 1.0763061605707283, 24.287405440745058, 16.25767664560392, 10.897793785851125, 10.014851976936539, 6.431965758575131, 5.5409202224809935, 4.647417361559423, 4.649565051708134, 5.541266927362869, 4.649841694214349, 2.8607481630181013, 4.645215009275573, 3.7542291585398737, 1.968888742472888, 2.86136693086719, 2.86257699004045, 1.968510920598101, 1.9683570955637015, 1.9683850332371204, 1.9686221506190458, 2.863424741088013, 1.968413847774038, 2.862311614279174, 2.8610974198587686, 2.861364379166247, 2.862306621997447, 2.861790671119012, 2.8615551098772722, 1.969135526018674, 1.967769586163769, 2.8630795610486177, 2.862000749058623, 1.0756163050709224, 1.076463893739546, 1.0761084783306818, 1.0758347150605474, 1.0760423354784716, 1.075835310651385, 1.0757662294828172, 1.0759921506667052, 1.075877387384995, 1.07579107987451, 1.0754781839256602, 1.075030984232465, 1.0761364015644557, 1.075994130285212, 1.076104579273523, 1.0757654728844903, 1.0760170869761085, 1.075983511804977, 1.0761452988284095, 1.0757681516017414, 1.0761685675266952, 1.0760739814921478, 1.0758353084285446, 1.075609137638027, 1.0759826572610736, 1.0759307523420918, 1.0759744805761224, 1.0757042305666242, 1.0762328165820523, 1.0759829297307255, 1.0760378458328292, 1.076249883681158, 1.076052502428997, 24.287405440745058, 16.25767664560392, 10.897793785851125, 6.431965758575131, 4.645215009275573, 10.014851976936539, 5.5409202224809935, 5.541266927362869, 4.647417361559423, 2.8610974198587686, 2.8615551098772722, 2.8607481630181013, 2.86136693086719, 2.861364379166247, 2.861790671119012, 2.862306621997447, 2.862000749058623, 4.649841694214349, 2.862311614279174, 2.863876432162752, 2.8630795610486177, 1.9683850332371204, 4.649565051708134, 3.7542291585398737, 1.9683570955637015, 2.86257699004045, 2.863424741088013, 1.9692419382801745, 1.969264726469915, 1.969516846059265, 1.0753783242495532, 1.0755580043070518, 1.075460043328592, 1.0758848804312067, 1.0755029871975639, 1.0758699686768969, 1.075782205755885, 1.0755736087720882, 1.075699678797714, 1.0757136256506648, 1.075030984232465, 1.0754781839256602, 1.0757654728844903, 1.075829623440182, 1.0760569014352321, 1.075692347587937, 1.0760337041182835, 1.0759950895410464, 1.075974303188114, 1.075809267225086, 1.075735808346264, 1.0760814825052596, 1.0757920229273659, 1.0758318717316098, 1.075835310651385, 1.075944805201737, 1.075769427216965, 1.0758590306928748, 1.076032679499379, 1.075893864537571, 1.0764105134102253, 1.0761177770358556, 1.0767788655855106, 24.287405440745058, 16.25767664560392, 10.897793785851125, 10.014851976936539, 4.645215009275573, 6.431965758575131, 5.541266927362869, 4.649841694214349, 3.7542291585398737, 2.861790671119012, 5.5409202224809935, 1.9696291456950603, 4.649565051708134, 2.862000749058623, 2.861364379166247, 1.9673539957430595, 2.8630795610486177, 1.967769586163769, 2.862306621997447, 1.9692493705944385, 1.9693811220012662, 4.647417361559423, 2.8610974198587686, 2.86136693086719, 2.8615551098772722, 2.862311614279174, 2.863876432162752, 1.9681855512706914, 1.9685350798533074, 2.8607481630181013, 1.0754781839256602, 1.0758347150605474, 1.07555834788414, 1.075893864537571, 1.0754544484225763, 1.0757681516017414, 1.0758318717316098, 1.0762101436586395, 1.0760413867778647, 1.0759208416627226, 1.0759806784777362, 1.0756163050709224, 1.0758590306928748, 1.0757920229273659, 1.076249883681158, 1.075735808346264, 1.0756175027287838, 1.0758707511014332, 1.0757359702745093, 1.0759023817445563, 1.0763539596958753, 1.0761167401007896, 1.0761452988284095, 1.0757717517066099, 1.075609137638027, 1.075030984232465, 1.0763779306404269, 1.075974303188114, 1.0759041220329304, 1.0763222950775488, 1.0761100933554815, 1.0761084783306818, 1.0761326937865436, 1.0763143782695328, 24.287405440745058, 16.25767664560392, 10.897793785851125, 10.014851976936539, 6.431965758575131, 5.541266927362869, 4.645215009275573, 5.5409202224809935, 3.7542291585398737, 4.647417361559423, 4.649565051708134, 2.862000749058623, 4.649841694214349, 2.86257699004045, 2.8615551098772722, 2.862311614279174, 1.9681855512706914, 1.9690952217024524, 2.8630795610486177, 2.861364379166247, 2.863876432162752, 2.863424741088013, 2.8607481630181013, 2.8610974198587686, 2.86136693086719, 2.862306621997447, 2.861790671119012, 1.968413847774038, 1.969264726469915, 1.968510920598101], \"Category\": [\"Default\", \"Default\", \"Default\", \"Default\", \"Default\", \"Default\", \"Default\", \"Default\", \"Default\", \"Default\", \"Default\", \"Default\", \"Default\", \"Default\", \"Default\", \"Default\", \"Default\", \"Default\", \"Default\", \"Default\", \"Default\", \"Default\", \"Default\", \"Default\", \"Default\", \"Default\", \"Default\", \"Default\", \"Default\", \"Default\", \"Topic1\", \"Topic1\", \"Topic1\", \"Topic1\", \"Topic1\", \"Topic1\", \"Topic1\", \"Topic1\", \"Topic1\", \"Topic1\", \"Topic1\", \"Topic1\", \"Topic1\", \"Topic1\", \"Topic1\", \"Topic1\", \"Topic1\", \"Topic1\", \"Topic1\", \"Topic1\", \"Topic1\", \"Topic1\", \"Topic1\", \"Topic1\", \"Topic1\", \"Topic1\", \"Topic1\", \"Topic1\", \"Topic1\", \"Topic1\", \"Topic2\", \"Topic2\", \"Topic2\", \"Topic2\", \"Topic2\", \"Topic2\", \"Topic2\", \"Topic2\", \"Topic2\", \"Topic2\", \"Topic2\", \"Topic2\", \"Topic2\", \"Topic2\", \"Topic2\", \"Topic2\", \"Topic2\", \"Topic2\", \"Topic2\", \"Topic2\", \"Topic2\", \"Topic2\", \"Topic2\", \"Topic2\", \"Topic2\", \"Topic2\", \"Topic2\", \"Topic2\", \"Topic2\", \"Topic2\", \"Topic2\", \"Topic2\", \"Topic2\", \"Topic2\", \"Topic2\", \"Topic2\", \"Topic2\", \"Topic2\", \"Topic2\", \"Topic2\", \"Topic2\", \"Topic2\", \"Topic2\", \"Topic2\", \"Topic2\", \"Topic2\", \"Topic2\", \"Topic2\", \"Topic2\", \"Topic2\", \"Topic2\", \"Topic2\", \"Topic2\", \"Topic2\", \"Topic2\", \"Topic2\", \"Topic2\", \"Topic2\", \"Topic2\", \"Topic2\", \"Topic2\", \"Topic2\", \"Topic2\", \"Topic2\", \"Topic3\", \"Topic3\", \"Topic3\", \"Topic3\", \"Topic3\", \"Topic3\", \"Topic3\", \"Topic3\", \"Topic3\", \"Topic3\", \"Topic3\", \"Topic3\", \"Topic3\", \"Topic3\", \"Topic3\", \"Topic3\", \"Topic3\", \"Topic3\", \"Topic3\", \"Topic3\", \"Topic3\", \"Topic3\", \"Topic3\", \"Topic3\", \"Topic3\", \"Topic3\", \"Topic3\", \"Topic3\", \"Topic3\", \"Topic3\", \"Topic3\", \"Topic3\", \"Topic3\", \"Topic3\", \"Topic3\", \"Topic3\", \"Topic3\", \"Topic3\", \"Topic3\", \"Topic3\", \"Topic3\", \"Topic3\", \"Topic3\", \"Topic3\", \"Topic3\", \"Topic3\", \"Topic3\", \"Topic3\", \"Topic3\", \"Topic3\", \"Topic3\", \"Topic3\", \"Topic3\", \"Topic3\", \"Topic3\", \"Topic3\", \"Topic3\", \"Topic3\", \"Topic3\", \"Topic3\", \"Topic3\", \"Topic3\", \"Topic3\", \"Topic4\", \"Topic4\", \"Topic4\", \"Topic4\", \"Topic4\", \"Topic4\", \"Topic4\", \"Topic4\", \"Topic4\", \"Topic4\", \"Topic4\", \"Topic4\", \"Topic4\", \"Topic4\", \"Topic4\", \"Topic4\", \"Topic4\", \"Topic4\", \"Topic4\", \"Topic4\", \"Topic4\", \"Topic4\", \"Topic4\", \"Topic4\", \"Topic4\", \"Topic4\", \"Topic4\", \"Topic4\", \"Topic4\", \"Topic4\", \"Topic4\", \"Topic4\", \"Topic4\", \"Topic4\", \"Topic4\", \"Topic4\", \"Topic4\", \"Topic4\", \"Topic4\", \"Topic4\", \"Topic4\", \"Topic4\", \"Topic4\", \"Topic4\", \"Topic4\", \"Topic4\", \"Topic4\", \"Topic4\", \"Topic4\", \"Topic4\", \"Topic4\", \"Topic4\", \"Topic4\", \"Topic4\", \"Topic4\", \"Topic4\", \"Topic4\", \"Topic4\", \"Topic4\", \"Topic4\", \"Topic4\", \"Topic4\", \"Topic4\", \"Topic5\", \"Topic5\", \"Topic5\", \"Topic5\", \"Topic5\", \"Topic5\", \"Topic5\", \"Topic5\", \"Topic5\", \"Topic5\", \"Topic5\", \"Topic5\", \"Topic5\", \"Topic5\", \"Topic5\", \"Topic5\", \"Topic5\", \"Topic5\", \"Topic5\", \"Topic5\", \"Topic5\", \"Topic5\", \"Topic5\", \"Topic5\", \"Topic5\", \"Topic5\", \"Topic5\", \"Topic5\", \"Topic5\", \"Topic5\", \"Topic5\", \"Topic5\", \"Topic5\", \"Topic5\", \"Topic5\", \"Topic5\", \"Topic5\", \"Topic5\", \"Topic5\", \"Topic5\", \"Topic5\", \"Topic5\", \"Topic5\", \"Topic5\", \"Topic5\", \"Topic5\", \"Topic5\", \"Topic5\", \"Topic5\", \"Topic5\", \"Topic5\", \"Topic5\", \"Topic5\", \"Topic5\", \"Topic5\", \"Topic5\", \"Topic5\", \"Topic5\", \"Topic5\", \"Topic5\", \"Topic5\", \"Topic5\", \"Topic5\", \"Topic5\"], \"logprob\": [30.0, 29.0, 28.0, 27.0, 26.0, 25.0, 24.0, 23.0, 22.0, 21.0, 20.0, 19.0, 18.0, 17.0, 16.0, 15.0, 14.0, 13.0, 12.0, 11.0, 10.0, 9.0, 8.0, 7.0, 6.0, 5.0, 4.0, 3.0, 2.0, 1.0, -2.7297, -3.1311, -3.5312, -3.6158, -4.0587, -4.2079, -4.208, -4.3834, -4.3835, -4.3839, -4.3844, -4.5975, -4.8685, -4.8687, -4.8688, -4.869, -4.8691, -4.8691, -4.8692, -4.8693, -4.8694, -4.8694, -4.8694, -4.8695, -4.8696, -5.243, -5.2432, -5.2434, -5.2435, -5.2435, -5.3882, -5.3889, -5.3891, -5.389, -5.3893, -5.3896, -5.3898, -5.3895, -5.3899, -5.3904, -5.3902, -5.3903, -5.39, -5.39, -5.3901, -5.3902, -5.3906, -5.3906, -5.3901, -5.3907, -5.3904, -5.3908, -5.3908, -5.3907, -5.3909, -5.3909, -5.3913, -5.3911, -5.3906, -5.3909, -5.3909, -5.391, -5.1088, -5.2214, -5.2891, -5.3128, -5.3302, -5.3347, -5.3408, -5.3463, -5.3442, -5.352, -5.3646, -5.3551, -5.3594, -5.3762, -5.3689, -5.3691, -5.3768, -5.3769, -5.3773, -5.3776, -5.3703, -5.3778, -5.3715, -5.3719, -5.3729, -5.3731, -5.3738, -5.3742, -5.3779, -5.378, -5.3775, -5.3779, -5.3871, -5.3864, -5.3868, -5.387, -5.387, -5.3872, -5.3874, -5.3874, -5.3875, -5.3876, -5.3879, -5.3883, -5.3874, -5.3876, -5.3876, -5.388, -5.3877, -5.3878, -5.3877, -5.388, -5.3877, -5.3878, -5.3881, -5.3884, -5.388, -5.3881, -5.3881, -5.3884, -5.3879, -5.3882, -5.3881, -5.388, -5.3882, -5.2345, -5.2826, -5.3098, -5.3418, -5.353, -5.3386, -5.3551, -5.3572, -5.3629, -5.3685, -5.3692, -5.371, -5.3716, -5.3726, -5.3736, -5.3745, -5.3747, -5.37, -5.3756, -5.3756, -5.3765, -5.3803, -5.372, -5.3742, -5.3807, -5.3779, -5.3796, -5.3811, -5.3814, -5.3815, -5.3852, -5.3864, -5.3865, -5.3861, -5.3865, -5.3862, -5.3864, -5.3867, -5.3867, -5.387, -5.3877, -5.3875, -5.3872, -5.3871, -5.387, -5.3874, -5.3871, -5.3872, -5.3873, -5.3874, -5.3875, -5.3872, -5.3875, -5.3875, -5.3875, -5.3875, -5.3877, -5.3876, -5.3875, -5.3877, -5.3874, -5.3875, -5.3875, -5.2331, -5.2992, -5.3227, -5.3412, -5.3601, -5.3589, -5.3611, -5.3636, -5.3678, -5.373, -5.3665, -5.3777, -5.3693, -5.3745, -5.375, -5.3788, -5.3763, -5.3801, -5.3763, -5.3802, -5.3806, -5.3724, -5.3778, -5.3784, -5.3794, -5.3798, -5.3805, -5.3808, -5.3809, -5.381, -5.3857, -5.3857, -5.3863, -5.3861, -5.3866, -5.3863, -5.3866, -5.3863, -5.3865, -5.3867, -5.3867, -5.387, -5.3868, -5.3869, -5.3865, -5.387, -5.3872, -5.387, -5.3871, -5.387, -5.3866, -5.3869, -5.387, -5.3873, -5.3875, -5.3881, -5.3868, -5.3872, -5.3873, -5.3869, -5.3872, -5.3872, -5.3872, -5.3872, -5.285, -5.3065, -5.3309, -5.3384, -5.35, -5.3578, -5.3629, -5.3624, -5.3681, -5.3672, -5.3672, -5.3743, -5.3705, -5.3755, -5.3762, -5.3763, -5.3805, -5.3806, -5.3771, -5.3774, -5.3775, -5.378, -5.3781, -5.3783, -5.3792, -5.3792, -5.3799, -5.3812, -5.3814, -5.3814], \"loglift\": [30.0, 29.0, 28.0, 27.0, 26.0, 25.0, 24.0, 23.0, 22.0, 21.0, 20.0, 19.0, 18.0, 17.0, 16.0, 15.0, 14.0, 13.0, 12.0, 11.0, 10.0, 9.0, 8.0, 7.0, 6.0, 5.0, 4.0, 3.0, 2.0, 1.0, 0.002, 0.0019, 0.0018, 0.0018, 0.0016, 0.0015, 0.0015, 0.0013, 0.0013, 0.0013, 0.0013, 0.0012, 0.0009, 0.0009, 0.0009, 0.0009, 0.0009, 0.0009, 0.0009, 0.0009, 0.0008, 0.0008, 0.0008, 0.0008, 0.0008, 0.0003, 0.0003, 0.0003, 0.0003, 0.0003, 0.4611, 0.4595, 0.4594, 0.4594, 0.4593, 0.4592, 0.459, 0.4588, 0.4586, 0.4584, 0.4584, 0.4584, 0.4583, 0.4583, 0.4582, 0.4582, 0.4581, 0.4581, 0.4579, 0.4579, 0.4578, 0.4577, 0.4577, 0.4576, 0.4575, 0.4575, 0.4574, 0.4574, 0.4574, 0.4574, 0.4573, 0.4571, -2.3772, -2.0884, -1.7561, -1.6953, -1.2699, -1.1253, -0.9555, -0.9615, -1.1348, -0.9673, -0.4941, -0.9694, -0.7607, -0.1321, -0.4986, -0.4992, -0.1325, -0.1326, -0.133, -0.1333, -0.5007, -0.1334, -0.5015, -0.5016, -0.5027, -0.5031, -0.5037, -0.5039, -0.134, -0.1333, -0.5078, -0.5079, 0.4616, 0.4615, 0.4614, 0.4614, 0.4613, 0.4612, 0.4612, 0.461, 0.4609, 0.4609, 0.4609, 0.4609, 0.4608, 0.4607, 0.4606, 0.4606, 0.4606, 0.4606, 0.4605, 0.4605, 0.4605, 0.4604, 0.4604, 0.4603, 0.4603, 0.4603, 0.4602, 0.4602, 0.4602, 0.4602, 0.4602, 0.4601, 0.4601, -2.5029, -2.1496, -1.7768, -1.2815, -0.9672, -1.7211, -1.1457, -1.1479, -0.9777, -0.4982, -0.499, -0.5005, -0.5013, -0.5023, -0.5034, -0.5046, -0.5046, -0.9853, -0.5056, -0.5062, -0.5068, -0.1359, -0.9872, -0.7755, -0.1363, -0.508, -0.5101, -0.1372, -0.1374, -0.1377, 0.4637, 0.4623, 0.4623, 0.4623, 0.4623, 0.4622, 0.4621, 0.4621, 0.4619, 0.4616, 0.4616, 0.4614, 0.4613, 0.4613, 0.4613, 0.4613, 0.4611, 0.4611, 0.4611, 0.4611, 0.461, 0.461, 0.461, 0.461, 0.461, 0.4609, 0.4609, 0.4609, 0.4608, 0.4608, 0.4606, 0.4607, 0.4601, -2.5015, -2.1662, -1.7897, -1.7236, -0.9744, -1.2986, -1.1517, -0.9789, -0.7691, -0.5029, -1.157, -0.134, -0.9845, -0.5044, -0.5048, -0.1339, -0.5066, -0.1354, -0.5064, -0.1363, -0.1368, -0.9872, -0.5074, -0.5081, -0.5092, -0.5098, -0.5111, -0.1364, -0.1367, -0.5105, 0.4631, 0.4627, 0.4625, 0.4623, 0.4623, 0.4622, 0.4619, 0.4619, 0.4618, 0.4618, 0.4617, 0.4616, 0.4616, 0.4616, 0.4616, 0.4616, 0.4615, 0.4615, 0.4615, 0.4614, 0.4614, 0.4613, 0.4612, 0.4612, 0.4612, 0.4612, 0.4611, 0.4611, 0.4611, 0.4611, 0.4611, 0.4611, 0.461, 0.4608, -2.5534, -2.1735, -1.7978, -1.7209, -1.2897, -1.1484, -0.9771, -1.153, -0.7694, -0.9819, -0.9824, -0.5042, -0.9858, -0.5056, -0.506, -0.5064, -0.136, -0.1366, -0.5074, -0.5071, -0.5081, -0.5085, -0.5076, -0.5079, -0.5089, -0.5092, -0.5098, -0.1369, -0.1375, -0.1371]}, \"token.table\": {\"Topic\": [1, 1, 1, 1, 1, 1, 1, 1, 1, 1, 1, 1, 1, 1, 1, 1, 1, 1, 1, 1, 1, 1, 1, 1, 1, 1, 1, 1, 1, 1, 1, 1, 1, 1, 1, 1, 1, 1, 1, 1, 1, 1, 1, 1, 1, 1, 1, 1, 1, 1, 1, 1, 1, 1, 1, 1, 1, 1, 1, 1, 1, 1, 1, 1, 1, 1, 1, 1, 1, 1, 1, 1, 1, 1, 1, 1, 1, 1, 1, 1, 1, 1, 1, 1, 1, 1, 1, 1, 1, 1, 1, 1, 1, 1, 1, 1, 1, 1, 1, 1, 1, 1, 1, 1, 1, 1, 1, 1, 1, 1, 1, 1, 1, 1, 1, 1, 1, 1, 1, 1, 1, 1, 1, 1, 1, 1, 1, 1, 1, 1, 1, 1, 1, 1, 1, 1, 1, 1, 1, 1, 1, 1, 1], \"Freq\": [1.048105739945661, 0.9297364604749222, 0.9298394752718265, 0.9291522490851695, 0.9295179808545202, 1.0151583717413621, 1.0158014299416618, 1.0165938638026404, 0.9293822712231774, 0.9294674720209911, 0.929532799600596, 1.0481039118990196, 1.047531229458266, 0.9295672238864588, 0.9294796786474958, 1.0160613732725283, 1.0156741237835112, 1.0093786151726942, 1.0153409390554546, 0.9289675258183376, 0.9295132690114913, 0.9290135942948516, 0.929322684295309, 1.0753694043194697, 0.9295623230580559, 1.015983926559763, 1.0654650611567125, 0.9294998870942466, 0.9293532715268151, 0.929041716235316, 0.9293354238181613, 0.9296995548371345, 0.9293389195642469, 0.9297496523245068, 0.9295108123962337, 1.047822785232428, 0.9296235634150595, 0.9293730995864555, 0.9294364057997102, 0.9290497820617252, 0.9290965727019007, 0.9293094376343828, 0.9290897388016571, 0.9296274970702586, 0.9295962746999255, 0.9295152115279168, 0.9294508493103374, 1.0154195800622265, 0.9297057499864122, 1.0484508795325638, 0.9295561821431713, 1.016075794634833, 0.929565215310399, 0.9293722710449718, 1.0486767198812033, 1.0159389903090785, 1.015607486955388, 1.0160464997041556, 0.9292502312404164, 0.9292777107919183, 0.9294157053088818, 0.9293186020985228, 1.015477478144819, 0.9292729490918925, 1.048006747220311, 0.9297499493244611, 0.9292743437457668, 1.0763764411369532, 0.9296985196531795, 0.9292425484631971, 0.9985170048473265, 1.0482947024308196, 0.9293353424999865, 0.9293123451834141, 0.9295706408188231, 0.9881664823586754, 0.9294554205551779, 1.0753054251763758, 0.9293322843226638, 0.9293830093372617, 0.9291865588633473, 1.0149357455379289, 0.9295699870414761, 0.9293561380049684, 0.9294278445180554, 0.929428534316626, 1.0482177550047003, 0.9294803546099519, 0.9294198117122783, 0.9295961347697774, 1.0476964723228914, 0.9290624064620442, 0.9292534329398927, 0.9294898043993551, 0.9296154442546286, 0.9295485143050721, 0.9328407869710389, 0.929374809454122, 0.9294523527111428, 0.9841504631183821, 1.0827848718804538, 0.929103666441651, 0.9296338327983232, 0.9302057472454763, 1.0484499445482844, 1.0159963955863305, 1.0758663599608942, 0.9293902252470139, 0.9293188851502292, 0.929473945381991, 0.9293900720252747, 1.01616435437643, 0.9293847185200098, 0.9291669837534263, 0.9298189539743584, 0.9298346379331397, 0.9295102978117822, 0.9293314649700481, 0.9295683261407878, 1.0156154064918042, 1.0163791604783694, 0.9294026812021998, 0.929222456569467, 0.9295476994511205, 1.0156949130529238, 0.9286957907148733, 0.9297975104706108, 0.9294597106284355, 1.015547461919214, 1.0485487069322121, 0.9293827739909025, 1.0828526235870348, 0.9292663139108058, 0.929257169667963, 0.9295102997322927, 0.9299052970012619, 1.048380997327242, 0.9291024793748225, 0.9292976565974057, 0.9293398044985464, 0.9292672093423057, 1.0156192396281627, 0.9293041344734875], \"Term\": [\"additional\", \"affordable\", \"agreement\", \"allow\", \"almost\", \"also\", \"applicable\", \"applying\", \"approval\", \"asset\", \"attention\", \"bajaj\", \"based\", \"basic\", \"become\", \"best\", \"borrowing\", \"charge\", \"choose\", \"cibil\", \"city\", \"collateral\", \"compared\", \"condition\", \"consider\", \"cost\", \"criterion\", \"customised\", \"data\", \"deal\", \"debt\", \"despite\", \"detailed\", \"disburse\", \"easy\", \"eligibility\", \"emi\", \"end\", \"enjoy\", \"ensure\", \"every\", \"expense\", \"experience\", \"facility\", \"fact\", \"fast\", \"fee\", \"find\", \"fine\", \"finserv\", \"fiscal\", \"flexi\", \"following\", \"foreclose\", \"foreclosure\", \"form\", \"free\", \"fund\", \"good\", \"hassle\", \"help\", \"home\", \"important\", \"incur\", \"india\", \"indian\", \"instance\", \"interest\", \"intimation\", \"later\", \"lender\", \"like\", \"likely\", \"line\", \"listed\", \"loan\", \"low\", \"make\", \"making\", \"match\", \"may\", \"meet\", \"meeting\", \"mind\", \"mnc\", \"much\", \"need\", \"needed\", \"negotiate\", \"next\", \"offer\", \"offered\", \"one\", \"online\", \"organisation\", \"paid\", \"part\", \"paying\", \"penal\", \"personal\", \"prepayment\", \"private\", \"processing\", \"purpose\", \"rate\", \"rbi\", \"read\", \"regular\", \"regulation\", \"renovating\", \"repay\", \"requirement\", \"residence\", \"resident\", \"risk\", \"rule\", \"sanction\", \"school\", \"score\", \"section\", \"set\", \"sign\", \"signing\", \"simple\", \"specify\", \"spot\", \"state\", \"statement\", \"taking\", \"tell\", \"tenor\", \"term\", \"terminology\", \"thoroughly\", \"thus\", \"unnecessary\", \"use\", \"usually\", \"various\", \"versatile\", \"withdraw\", \"year\", \"zero\"]}, \"R\": 30, \"lambda.step\": 0.01, \"plot.opts\": {\"xlab\": \"PC1\", \"ylab\": \"PC2\"}, \"topic.order\": [5, 3, 1, 2, 4]};\n",
              "\n",
              "function LDAvis_load_lib(url, callback){\n",
              "  var s = document.createElement('script');\n",
              "  s.src = url;\n",
              "  s.async = true;\n",
              "  s.onreadystatechange = s.onload = callback;\n",
              "  s.onerror = function(){console.warn(\"failed to load library \" + url);};\n",
              "  document.getElementsByTagName(\"head\")[0].appendChild(s);\n",
              "}\n",
              "\n",
              "if(typeof(LDAvis) !== \"undefined\"){\n",
              "   // already loaded: just create the visualization\n",
              "   !function(LDAvis){\n",
              "       new LDAvis(\"#\" + \"ldavis_el1381401349326963045575549066\", ldavis_el1381401349326963045575549066_data);\n",
              "   }(LDAvis);\n",
              "}else if(typeof define === \"function\" && define.amd){\n",
              "   // require.js is available: use it to load d3/LDAvis\n",
              "   require.config({paths: {d3: \"https://d3js.org/d3.v5\"}});\n",
              "   require([\"d3\"], function(d3){\n",
              "      window.d3 = d3;\n",
              "      LDAvis_load_lib(\"https://cdn.jsdelivr.net/gh/bmabey/pyLDAvis@3.4.0/pyLDAvis/js/ldavis.v3.0.0.js\", function(){\n",
              "        new LDAvis(\"#\" + \"ldavis_el1381401349326963045575549066\", ldavis_el1381401349326963045575549066_data);\n",
              "      });\n",
              "    });\n",
              "}else{\n",
              "    // require.js not available: dynamically load d3 & LDAvis\n",
              "    LDAvis_load_lib(\"https://d3js.org/d3.v5.js\", function(){\n",
              "         LDAvis_load_lib(\"https://cdn.jsdelivr.net/gh/bmabey/pyLDAvis@3.4.0/pyLDAvis/js/ldavis.v3.0.0.js\", function(){\n",
              "                 new LDAvis(\"#\" + \"ldavis_el1381401349326963045575549066\", ldavis_el1381401349326963045575549066_data);\n",
              "            })\n",
              "         });\n",
              "}\n",
              "</script>"
            ]
          },
          "metadata": {},
          "execution_count": 3
        }
      ]
    }
  ]
}