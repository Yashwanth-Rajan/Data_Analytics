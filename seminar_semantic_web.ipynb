{
  "nbformat": 4,
  "nbformat_minor": 0,
  "metadata": {
    "colab": {
      "provenance": []
    },
    "kernelspec": {
      "name": "python3",
      "display_name": "Python 3"
    },
    "language_info": {
      "name": "python"
    }
  },
  "cells": [
    {
      "cell_type": "markdown",
      "source": [
        "# **Introduction to Web Scraping**\n",
        "\n",
        "## What is Web Scraping?\n",
        "\n",
        "Definition: Web scraping is the automated process of extracting data from websites.\n",
        "\n",
        "Purpose: Gather information, perform research, monitor changes, etc.\n",
        "\n",
        "\n",
        ">\n",
        "\n",
        "\n",
        "# Why Web Scraping?\n",
        "\n",
        "   ### Benefits:\n",
        "\n",
        "\n",
        "*  Real-time information retrieval\n",
        "* Access to vast amounts of data\n",
        "* Automation of repetitive tasks\n",
        "* Competitive analysis and market research\n",
        "\n",
        "\n",
        "# Key Components of Web Scraping\n",
        "\n",
        "1. Web Requests: Sending HTTP requests to a website's server.\n",
        "2.Parsing: Extracting structured data from the website's HTML.\n",
        "3.Data Cleaning: Preprocessing and transforming the extracted data.\n",
        "4.Storage: Saving the data for analysis or further use.   \n",
        "\n",
        "\n",
        "# Legal and Ethical Considerations\n",
        "\n",
        "1. Terms of Use: Respect websites' terms of use and robots.txt file.\n",
        "2. Copyright: Avoid scraping copyrighted or private information.\n",
        "3. Ethical Use: Do not overload servers, respect the website's resources.\n",
        "\n",
        "#Popular Web Scraping Tools\n",
        "\n",
        "* Beautiful Soup: Python library for HTML parsing.\n",
        "* Scrapy: Python framework for building web spiders.\n",
        "* Selenium: Automating web browser interaction.\n",
        "* Requests: Python library for making HTTP requests.\n",
        "\n",
        "# Web Scraping Workflow\n",
        "\n",
        "* Send HTTP request to the website.\n",
        "* Receive and parse HTML content.\n",
        "* Extract desired data using tags, classes, or XPath.\n",
        "* Clean and preprocess the data.\n",
        "* Store data in a preferred format (CSV, JSON, database, etc.).\n"
      ],
      "metadata": {
        "id": "YpOZKQKkowlN"
      }
    },
    {
      "cell_type": "markdown",
      "source": [
        "# **Data Preprocessing , Cleaning and Storing**\n",
        "\n",
        "* *Converting the text to lowercase:* This step ensures that the text is consistent in terms of case.\n",
        "\n",
        "* *Tokenization:* The text is tokenized into individual words or tokens. This is important for further processing.\n",
        "\n",
        "* *Removing punctuation and non-alphanumeric tokens:* This step involves filtering out punctuation marks and any non-alphanumeric tokens that might not add value to the analysis.\n",
        "\n",
        "* *Removing stopwords:* Stopwords are common words that often do not carry significant meaning and can be safely removed. NLTK provides a list of stopwords that you can use.\n",
        "\n",
        "* *Lemmatization:* Words are lemmatized to reduce them to their base or dictionary form. This helps in grouping together variations of the same word."
      ],
      "metadata": {
        "id": "LdW_V5aEroOR"
      }
    },
    {
      "cell_type": "code",
      "source": [
        "#import necessary libraries\n",
        "import nltk\n",
        "from nltk.corpus import stopwords\n",
        "from nltk.tokenize import word_tokenize\n",
        "from nltk.stem import WordNetLemmatizer\n",
        "from nltk.stem import PorterStemmer\n",
        "\n",
        "\n",
        "nltk.download('punkt')\n",
        "nltk.download('stopwords')\n",
        "nltk.download('wordnet')"
      ],
      "metadata": {
        "id": "C8qI5OlytFnQ",
        "colab": {
          "base_uri": "https://localhost:8080/"
        },
        "outputId": "157f3f6f-cbc5-4409-d930-ed5d2ff466f6"
      },
      "execution_count": null,
      "outputs": [
        {
          "output_type": "stream",
          "name": "stderr",
          "text": [
            "[nltk_data] Downloading package punkt to /root/nltk_data...\n",
            "[nltk_data]   Unzipping tokenizers/punkt.zip.\n",
            "[nltk_data] Downloading package stopwords to /root/nltk_data...\n",
            "[nltk_data]   Unzipping corpora/stopwords.zip.\n",
            "[nltk_data] Downloading package wordnet to /root/nltk_data...\n"
          ]
        },
        {
          "output_type": "execute_result",
          "data": {
            "text/plain": [
              "True"
            ]
          },
          "metadata": {},
          "execution_count": 1
        }
      ]
    },
    {
      "cell_type": "code",
      "execution_count": null,
      "metadata": {
        "colab": {
          "base_uri": "https://localhost:8080/"
        },
        "id": "-8dWNGIhmRso",
        "outputId": "6dd54223-46ce-4d98-f7a4-f91d48d3ad80"
      },
      "outputs": [
        {
          "output_type": "stream",
          "name": "stdout",
          "text": [
            "Original Text: \n",
            "Natural language processing (NLP) is a field of artificial intelligence that focuses on the interaction\n",
            "between computers and humans through natural language. The ultimate goal of NLP is to read, decipher, \n",
            "understand, and make sense of human language in a way that is both valuable and meaningful.\n",
            "\n",
            "Cleaned Text: natural language processing nlp field artificial intelligence focus interaction computer human natural language ultimate goal nlp read decipher understand make sense human language way valuable meaningful\n"
          ]
        }
      ],
      "source": [
        "# Example raw text\n",
        "raw_text = \"\"\"\n",
        "Natural language processing (NLP) is a field of artificial intelligence that focuses on the interaction\n",
        "between computers and humans through natural language. The ultimate goal of NLP is to read, decipher,\n",
        "understand, and make sense of human language in a way that is both valuable and meaningful.\n",
        "\"\"\"\n",
        "# Convert to lowercase\n",
        "lowercase_text = raw_text.lower()\n",
        "\n",
        "# Tokenize the text\n",
        "tokens = word_tokenize(lowercase_text)\n",
        "\n",
        "# Remove punctuation and non-alphanumeric tokens\n",
        "cleaned_tokens = [token for token in tokens if token.isalnum()]\n",
        "\n",
        "# Remove stopwords\n",
        "stop_words = set(stopwords.words('english'))\n",
        "filtered_tokens = [token for token in cleaned_tokens if token not in stop_words]\n",
        "\n",
        "\n",
        "#stemming\n",
        "stemmer = PorterStemmer()\n",
        "\n",
        "# Perform stemming\n",
        "stemmed_words = [stemmer.stem(word) for word in tokens]\n",
        "\n",
        "# Join the stemmed words back into a sentence\n",
        "stemmed_text = ' '.join(stemmed_words)\n",
        "\n",
        "# Lemmatize the tokens\n",
        "lemmatizer = WordNetLemmatizer()\n",
        "lemmatized_tokens = [lemmatizer.lemmatize(token) for token in filtered_tokens]\n",
        "\n",
        "# Join the tokens back into a cleaned text\n",
        "cleaned_text = ' '.join(lemmatized_tokens)\n",
        "\n",
        "print(\"Original Text:\", raw_text)\n",
        "print(\"Cleaned Text:\", cleaned_text)\n"
      ]
    },
    {
      "cell_type": "markdown",
      "source": [
        "# connecting mongo db and storing the preprocessed data"
      ],
      "metadata": {
        "id": "3xG3vlpwtioP"
      }
    },
    {
      "cell_type": "code",
      "source": [
        "!pip install pymongo\n",
        "import pymongo\n"
      ],
      "metadata": {
        "colab": {
          "base_uri": "https://localhost:8080/"
        },
        "id": "7xg-Z9vGtg97",
        "outputId": "f2b4df79-7e1f-4b0d-9c94-8c17af1ced17"
      },
      "execution_count": null,
      "outputs": [
        {
          "output_type": "stream",
          "name": "stdout",
          "text": [
            "Collecting pymongo\n",
            "  Downloading pymongo-4.4.1-cp310-cp310-manylinux_2_17_x86_64.manylinux2014_x86_64.whl (603 kB)\n",
            "\u001b[2K     \u001b[90m━━━━━━━━━━━━━━━━━━━━━━━━━━━━━━━━━━━━━━━\u001b[0m \u001b[32m603.6/603.6 kB\u001b[0m \u001b[31m5.3 MB/s\u001b[0m eta \u001b[36m0:00:00\u001b[0m\n",
            "\u001b[?25hCollecting dnspython<3.0.0,>=1.16.0 (from pymongo)\n",
            "  Downloading dnspython-2.4.2-py3-none-any.whl (300 kB)\n",
            "\u001b[2K     \u001b[90m━━━━━━━━━━━━━━━━━━━━━━━━━━━━━━━━━━━━━━━\u001b[0m \u001b[32m300.4/300.4 kB\u001b[0m \u001b[31m8.0 MB/s\u001b[0m eta \u001b[36m0:00:00\u001b[0m\n",
            "\u001b[?25hInstalling collected packages: dnspython, pymongo\n",
            "Successfully installed dnspython-2.4.2 pymongo-4.4.1\n"
          ]
        }
      ]
    },
    {
      "cell_type": "code",
      "source": [
        "# Connect to MongoDB\n",
        "client = pymongo.MongoClient(\"mongodb://localhost:27017/\")\n",
        "db = client[\"mydatabase\"]  #define the database -> 'mydatabase'\n",
        "collection = db[\"cleaned_text\"]  # define the collection name -> 'cleaned_text'\n",
        "\n",
        "# Example cleaned text\n",
        "txt = cleaned_text  #give the preprocessed cleaned text here\n",
        "\n",
        "# Create a document to insert into MongoDB\n",
        "document = {\"cleaned_text\": txt}\n",
        "\n",
        "# Insert the document into the collection\n",
        "collection.insert_one(document)\n",
        "\n",
        "#Print success message\n",
        "print(\"Cleaned text stored in MongoDB.\")"
      ],
      "metadata": {
        "id": "wZfrFoBmuAgT",
        "colab": {
          "base_uri": "https://localhost:8080/"
        },
        "outputId": "2b3889db-1cfe-4613-ff56-6625380f7e90"
      },
      "execution_count": null,
      "outputs": [
        {
          "output_type": "stream",
          "name": "stdout",
          "text": [
            "Cleaned text stored in MongoDB.\n"
          ]
        }
      ]
    },
    {
      "cell_type": "code",
      "source": [
        "#mongo db hierarchy image\n",
        "\n",
        "from google.colab import drive\n",
        "from IPython.display import Image\n",
        "image_path='/content/drive/MyDrive/Colab Notebooks/mongo_database.jpg'\n",
        "Image(filename=image_path)"
      ],
      "metadata": {
        "id": "qyps0PVZvbjk",
        "colab": {
          "base_uri": "https://localhost:8080/",
          "height": 459
        },
        "outputId": "8090528e-d032-4076-9f47-95f0db3a22c5"
      },
      "execution_count": null,
      "outputs": [
        {
          "output_type": "execute_result",
          "data": {
            "image/jpeg": "[encoded data removed]",
            "text/plain": [
              "<IPython.core.display.Image object>"
            ]
          },
          "metadata": {},
          "execution_count": 2
        }
      ]
    },
    {
      "cell_type": "code",
      "source": [],
      "metadata": {
        "id": "15OEF3_ZvlJ_"
      },
      "execution_count": null,
      "outputs": []
    },
    {
      "cell_type": "code",
      "source": [],
      "metadata": {
        "id": "3I0eZ4opyoCy"
      },
      "execution_count": null,
      "outputs": []
    }
  ]
}