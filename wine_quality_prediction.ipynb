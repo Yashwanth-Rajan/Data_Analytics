{
  "cells": [
    {
      "cell_type": "code",
      "execution_count": null,
      "metadata": {
        "_cell_guid": "b1076dfc-b9ad-4769-8c92-a6c4dae69d19",
        "_uuid": "8f2839f25d086af736a60e9eeb907d3b93b6e0e5",
        "execution": {
          "iopub.execute_input": "2020-09-17T22:41:55.760153Z",
          "iopub.status.busy": "2020-09-17T22:41:55.759385Z",
          "iopub.status.idle": "2020-09-17T22:41:57.931279Z",
          "shell.execute_reply": "2020-09-17T22:41:57.931822Z"
        },
        "papermill": {
          "duration": 2.187982,
          "end_time": "2020-09-17T22:41:57.932009",
          "exception": false,
          "start_time": "2020-09-17T22:41:55.744027",
          "status": "completed"
        },
        "tags": [],
        "id": "1ejHBkZqdgmS",
        "outputId": "f8878ecd-f581-4540-956c-6e1929d8f970"
      },
      "outputs": [
        {
          "name": "stdout",
          "output_type": "stream",
          "text": [
            "/kaggle/input/red-wine-quality-cortez-et-al-2009/winequality-red.csv\n"
          ]
        }
      ],
      "source": [
        "\n",
        "import numpy as np # linear algebra\n",
        "import pandas as pd # data processing, CSV file I/O (e.g. pd.read_csv)\n",
        "\n",
        "import matplotlib.pyplot as plt\n",
        "from scipy import stats\n",
        "\n",
        "import seaborn as sns\n",
        "\n",
        "import statsmodels.api as sm\n",
        "from statsmodels.stats import diagnostic as diag\n",
        "from statsmodels.stats.outliers_influence import variance_inflation_factor\n",
        "\n",
        "from sklearn.linear_model import LinearRegression\n",
        "from sklearn.model_selection import train_test_split\n",
        "from sklearn.metrics import mean_squared_error, r2_score, mean_absolute_error\n",
        "\n"
      ]
    },
    {
      "cell_type": "code",
      "execution_count": null,
      "metadata": {
        "_cell_guid": "79c7e3d0-c299-4dcb-8224-4455121ee9b0",
        "_uuid": "d629ff2d2480ee46fbb7e2d37f6b5fab8052498a",
        "execution": {
          "iopub.execute_input": "2020-09-17T22:41:57.954865Z",
          "iopub.status.busy": "2020-09-17T22:41:57.954213Z",
          "iopub.status.idle": "2020-09-17T22:41:57.993865Z",
          "shell.execute_reply": "2020-09-17T22:41:57.993260Z"
        },
        "papermill": {
          "duration": 0.054196,
          "end_time": "2020-09-17T22:41:57.994009",
          "exception": false,
          "start_time": "2020-09-17T22:41:57.939813",
          "status": "completed"
        },
        "tags": [],
        "id": "642B1XOOdgmV",
        "outputId": "a21ea83e-81e5-4dae-f5db-6d95a29af2eb"
      },
      "outputs": [
        {
          "data": {
            "text/html": [
              "<div>\n",
              "<style scoped>\n",
              "    .dataframe tbody tr th:only-of-type {\n",
              "        vertical-align: middle;\n",
              "    }\n",
              "\n",
              "    .dataframe tbody tr th {\n",
              "        vertical-align: top;\n",
              "    }\n",
              "\n",
              "    .dataframe thead th {\n",
              "        text-align: right;\n",
              "    }\n",
              "</style>\n",
              "<table border=\"1\" class=\"dataframe\">\n",
              "  <thead>\n",
              "    <tr style=\"text-align: right;\">\n",
              "      <th></th>\n",
              "      <th>fixed acidity</th>\n",
              "      <th>volatile acidity</th>\n",
              "      <th>citric acid</th>\n",
              "      <th>residual sugar</th>\n",
              "      <th>chlorides</th>\n",
              "      <th>free sulfur dioxide</th>\n",
              "      <th>total sulfur dioxide</th>\n",
              "      <th>density</th>\n",
              "      <th>pH</th>\n",
              "      <th>sulphates</th>\n",
              "      <th>alcohol</th>\n",
              "      <th>quality</th>\n",
              "    </tr>\n",
              "  </thead>\n",
              "  <tbody>\n",
              "    <tr>\n",
              "      <th>0</th>\n",
              "      <td>7.4</td>\n",
              "      <td>0.70</td>\n",
              "      <td>0.00</td>\n",
              "      <td>1.9</td>\n",
              "      <td>0.076</td>\n",
              "      <td>11.0</td>\n",
              "      <td>34.0</td>\n",
              "      <td>0.9978</td>\n",
              "      <td>3.51</td>\n",
              "      <td>0.56</td>\n",
              "      <td>9.4</td>\n",
              "      <td>5</td>\n",
              "    </tr>\n",
              "    <tr>\n",
              "      <th>1</th>\n",
              "      <td>7.8</td>\n",
              "      <td>0.88</td>\n",
              "      <td>0.00</td>\n",
              "      <td>2.6</td>\n",
              "      <td>0.098</td>\n",
              "      <td>25.0</td>\n",
              "      <td>67.0</td>\n",
              "      <td>0.9968</td>\n",
              "      <td>3.20</td>\n",
              "      <td>0.68</td>\n",
              "      <td>9.8</td>\n",
              "      <td>5</td>\n",
              "    </tr>\n",
              "    <tr>\n",
              "      <th>2</th>\n",
              "      <td>7.8</td>\n",
              "      <td>0.76</td>\n",
              "      <td>0.04</td>\n",
              "      <td>2.3</td>\n",
              "      <td>0.092</td>\n",
              "      <td>15.0</td>\n",
              "      <td>54.0</td>\n",
              "      <td>0.9970</td>\n",
              "      <td>3.26</td>\n",
              "      <td>0.65</td>\n",
              "      <td>9.8</td>\n",
              "      <td>5</td>\n",
              "    </tr>\n",
              "    <tr>\n",
              "      <th>3</th>\n",
              "      <td>11.2</td>\n",
              "      <td>0.28</td>\n",
              "      <td>0.56</td>\n",
              "      <td>1.9</td>\n",
              "      <td>0.075</td>\n",
              "      <td>17.0</td>\n",
              "      <td>60.0</td>\n",
              "      <td>0.9980</td>\n",
              "      <td>3.16</td>\n",
              "      <td>0.58</td>\n",
              "      <td>9.8</td>\n",
              "      <td>6</td>\n",
              "    </tr>\n",
              "    <tr>\n",
              "      <th>4</th>\n",
              "      <td>7.4</td>\n",
              "      <td>0.70</td>\n",
              "      <td>0.00</td>\n",
              "      <td>1.9</td>\n",
              "      <td>0.076</td>\n",
              "      <td>11.0</td>\n",
              "      <td>34.0</td>\n",
              "      <td>0.9978</td>\n",
              "      <td>3.51</td>\n",
              "      <td>0.56</td>\n",
              "      <td>9.4</td>\n",
              "      <td>5</td>\n",
              "    </tr>\n",
              "  </tbody>\n",
              "</table>\n",
              "</div>"
            ],
            "text/plain": [
              "   fixed acidity  volatile acidity  citric acid  residual sugar  chlorides  \\\n",
              "0            7.4              0.70         0.00             1.9      0.076   \n",
              "1            7.8              0.88         0.00             2.6      0.098   \n",
              "2            7.8              0.76         0.04             2.3      0.092   \n",
              "3           11.2              0.28         0.56             1.9      0.075   \n",
              "4            7.4              0.70         0.00             1.9      0.076   \n",
              "\n",
              "   free sulfur dioxide  total sulfur dioxide  density    pH  sulphates  \\\n",
              "0                 11.0                  34.0   0.9978  3.51       0.56   \n",
              "1                 25.0                  67.0   0.9968  3.20       0.68   \n",
              "2                 15.0                  54.0   0.9970  3.26       0.65   \n",
              "3                 17.0                  60.0   0.9980  3.16       0.58   \n",
              "4                 11.0                  34.0   0.9978  3.51       0.56   \n",
              "\n",
              "   alcohol  quality  \n",
              "0      9.4        5  \n",
              "1      9.8        5  \n",
              "2      9.8        5  \n",
              "3      9.8        6  \n",
              "4      9.4        5  "
            ]
          },
          "execution_count": 2,
          "metadata": {},
          "output_type": "execute_result"
        }
      ],
      "source": [
        "df = pd.read_csv(\"/kaggle/input/red-wine-quality-cortez-et-al-2009/winequality-red.csv\")\n",
        "\n",
        "\n",
        "wines_df.head()"
      ]
    },
    {
      "cell_type": "code",
      "execution_count": null,
      "metadata": {
        "execution": {
          "iopub.execute_input": "2020-09-17T22:41:58.017755Z",
          "iopub.status.busy": "2020-09-17T22:41:58.017050Z",
          "iopub.status.idle": "2020-09-17T22:41:58.021043Z",
          "shell.execute_reply": "2020-09-17T22:41:58.021467Z"
        },
        "papermill": {
          "duration": 0.019286,
          "end_time": "2020-09-17T22:41:58.021604",
          "exception": false,
          "start_time": "2020-09-17T22:41:58.002318",
          "status": "completed"
        },
        "tags": [],
        "id": "XISjtjEVdgmW",
        "outputId": "0647c3b9-1e3a-46ca-8897-4d865e90a67b"
      },
      "outputs": [
        {
          "data": {
            "text/plain": [
              "fixed acidity           0\n",
              "volatile acidity        0\n",
              "citric acid             0\n",
              "residual sugar          0\n",
              "chlorides               0\n",
              "free sulfur dioxide     0\n",
              "total sulfur dioxide    0\n",
              "density                 0\n",
              "pH                      0\n",
              "sulphates               0\n",
              "alcohol                 0\n",
              "quality                 0\n",
              "dtype: int64"
            ]
          },
          "metadata": {},
          "output_type": "display_data"
        }
      ],
      "source": [
        "display(wines_df.isna().sum())"
      ]
    },
    {
      "cell_type": "code",
      "execution_count": null,
      "metadata": {
        "execution": {
          "iopub.execute_input": "2020-09-17T22:41:58.047091Z",
          "iopub.status.busy": "2020-09-17T22:41:58.046438Z",
          "iopub.status.idle": "2020-09-17T22:41:58.807683Z",
          "shell.execute_reply": "2020-09-17T22:41:58.808190Z"
        },
        "papermill": {
          "duration": 0.778638,
          "end_time": "2020-09-17T22:41:58.808335",
          "exception": false,
          "start_time": "2020-09-17T22:41:58.029697",
          "status": "completed"
        },
        "tags": [],
        "id": "LiUmm_rRdgmX",
        "outputId": "5559c646-598d-4da5-f135-2425b9e05304"
      },
      "outputs": [
        {
          "data": {
            "text/plain": [
              "<matplotlib.axes._subplots.AxesSubplot at 0x7fc50545d490>"
            ]
          },
          "execution_count": 4,
          "metadata": {},
          "output_type": "execute_result"
        },
        {
          "data": {
            "image/png": "[encoded data removed]",
            "text/plain": [
              "<Figure size 720x720 with 2 Axes>"
            ]
          },
          "metadata": {
            "needs_background": "light"
          },
          "output_type": "display_data"
        }
      ],
      "source": [
        "correlation = wines_df.corr()\n",
        "\n",
        "fig = plt.subplots(figsize=(10,10))\n",
        "sns.heatmap(correlation,vmax=1,square=True,annot=True,cmap='Blues')"
      ]
    },
    {
      "cell_type": "code",
      "execution_count": null,
      "metadata": {
        "execution": {
          "iopub.execute_input": "2020-09-17T22:41:58.841604Z",
          "iopub.status.busy": "2020-09-17T22:41:58.841004Z",
          "iopub.status.idle": "2020-09-17T22:41:58.924815Z",
          "shell.execute_reply": "2020-09-17T22:41:58.924129Z"
        },
        "papermill": {
          "duration": 0.105684,
          "end_time": "2020-09-17T22:41:58.924950",
          "exception": false,
          "start_time": "2020-09-17T22:41:58.819266",
          "status": "completed"
        },
        "tags": [],
        "id": "X-EtOGMQdgmX",
        "outputId": "cc7660ab-a9b8-4dd7-bd4e-8d7cfab25f4b"
      },
      "outputs": [
        {
          "data": {
            "text/plain": [
              "const                   1.711696e+06\n",
              "fixed acidity           7.772051e+00\n",
              "volatile acidity        1.879663e+00\n",
              "citric acid             3.131055e+00\n",
              "residual sugar          1.703859e+00\n",
              "chlorides               1.500591e+00\n",
              "free sulfur dioxide     1.968010e+00\n",
              "total sulfur dioxide    2.214467e+00\n",
              "density                 6.346491e+00\n",
              "pH                      3.339511e+00\n",
              "sulphates               1.487286e+00\n",
              "alcohol                 3.238899e+00\n",
              "quality                 1.563848e+00\n",
              "dtype: float64"
            ]
          },
          "metadata": {},
          "output_type": "display_data"
        },
        {
          "data": {
            "text/plain": [
              "const                   672.114828\n",
              "volatile acidity          1.321382\n",
              "residual sugar            1.073584\n",
              "chlorides                 1.360177\n",
              "free sulfur dioxide       1.901710\n",
              "total sulfur dioxide      1.999505\n",
              "pH                        1.280173\n",
              "sulphates                 1.379674\n",
              "alcohol                   1.463216\n",
              "quality                   1.561599\n",
              "dtype: float64"
            ]
          },
          "metadata": {},
          "output_type": "display_data"
        }
      ],
      "source": [
        "wines_df_before = wines_df\n",
        "wines_df_after = wines_df.drop(['fixed acidity','citric acid','density'], axis = 1)\n",
        "\n",
        "X1 = sm.tools.add_constant(wines_df_before)\n",
        "X2 = sm.tools.add_constant(wines_df_after)\n",
        "\n",
        "series_before = pd.Series([variance_inflation_factor(X1.values, i) for i in range(X1.shape[1])], index=X1.columns)\n",
        "series_after = pd.Series([variance_inflation_factor(X2.values, i) for i in range(X2.shape[1])], index=X2.columns)\n",
        "\n",
        "display(series_before)\n",
        "display(series_after)\n",
        "\n",
        "wines_df = wines_df_after"
      ]
    },
    {
      "cell_type": "code",
      "execution_count": null,
      "metadata": {
        "execution": {
          "iopub.execute_input": "2020-09-17T22:41:58.960279Z",
          "iopub.status.busy": "2020-09-17T22:41:58.959467Z",
          "iopub.status.idle": "2020-09-17T22:41:58.962772Z",
          "shell.execute_reply": "2020-09-17T22:41:58.962328Z"
        },
        "papermill": {
          "duration": 0.021947,
          "end_time": "2020-09-17T22:41:58.962924",
          "exception": false,
          "start_time": "2020-09-17T22:41:58.940977",
          "status": "completed"
        },
        "tags": [],
        "id": "z2iK7b6QdgmX"
      },
      "outputs": [],
      "source": [
        "x = np.array(wines_df.loc[:, wines_df.columns != 'quality'])\n",
        "y = np.array(wines_df['quality'])"
      ]
    },
    {
      "cell_type": "code",
      "execution_count": null,
      "metadata": {
        "execution": {
          "iopub.execute_input": "2020-09-17T22:41:58.997764Z",
          "iopub.status.busy": "2020-09-17T22:41:58.996980Z",
          "iopub.status.idle": "2020-09-17T22:41:59.060136Z",
          "shell.execute_reply": "2020-09-17T22:41:59.059613Z"
        },
        "papermill": {
          "duration": 0.085438,
          "end_time": "2020-09-17T22:41:59.060260",
          "exception": false,
          "start_time": "2020-09-17T22:41:58.974822",
          "status": "completed"
        },
        "tags": [],
        "id": "iH-MXke-dgmX",
        "outputId": "385461c9-15fa-43cd-cde5-e29fd3df8a13"
      },
      "outputs": [
        {
          "data": {
            "text/html": [
              "<div>\n",
              "<style scoped>\n",
              "    .dataframe tbody tr th:only-of-type {\n",
              "        vertical-align: middle;\n",
              "    }\n",
              "\n",
              "    .dataframe tbody tr th {\n",
              "        vertical-align: top;\n",
              "    }\n",
              "\n",
              "    .dataframe thead th {\n",
              "        text-align: right;\n",
              "    }\n",
              "</style>\n",
              "<table border=\"1\" class=\"dataframe\">\n",
              "  <thead>\n",
              "    <tr style=\"text-align: right;\">\n",
              "      <th></th>\n",
              "      <th>volatile acidity</th>\n",
              "      <th>residual sugar</th>\n",
              "      <th>chlorides</th>\n",
              "      <th>free sulfur dioxide</th>\n",
              "      <th>total sulfur dioxide</th>\n",
              "      <th>pH</th>\n",
              "      <th>sulphates</th>\n",
              "      <th>alcohol</th>\n",
              "      <th>quality</th>\n",
              "    </tr>\n",
              "  </thead>\n",
              "  <tbody>\n",
              "    <tr>\n",
              "      <th>count</th>\n",
              "      <td>1599.000000</td>\n",
              "      <td>1599.000000</td>\n",
              "      <td>1599.000000</td>\n",
              "      <td>1599.000000</td>\n",
              "      <td>1599.000000</td>\n",
              "      <td>1599.000000</td>\n",
              "      <td>1599.000000</td>\n",
              "      <td>1599.000000</td>\n",
              "      <td>1599.000000</td>\n",
              "    </tr>\n",
              "    <tr>\n",
              "      <th>mean</th>\n",
              "      <td>0.527821</td>\n",
              "      <td>2.538806</td>\n",
              "      <td>0.087467</td>\n",
              "      <td>15.874922</td>\n",
              "      <td>46.467792</td>\n",
              "      <td>3.311113</td>\n",
              "      <td>0.658149</td>\n",
              "      <td>10.422983</td>\n",
              "      <td>5.636023</td>\n",
              "    </tr>\n",
              "    <tr>\n",
              "      <th>std</th>\n",
              "      <td>0.179060</td>\n",
              "      <td>1.409928</td>\n",
              "      <td>0.047065</td>\n",
              "      <td>10.460157</td>\n",
              "      <td>32.895324</td>\n",
              "      <td>0.154386</td>\n",
              "      <td>0.169507</td>\n",
              "      <td>1.065668</td>\n",
              "      <td>0.807569</td>\n",
              "    </tr>\n",
              "    <tr>\n",
              "      <th>min</th>\n",
              "      <td>0.120000</td>\n",
              "      <td>0.900000</td>\n",
              "      <td>0.012000</td>\n",
              "      <td>1.000000</td>\n",
              "      <td>6.000000</td>\n",
              "      <td>2.740000</td>\n",
              "      <td>0.330000</td>\n",
              "      <td>8.400000</td>\n",
              "      <td>3.000000</td>\n",
              "    </tr>\n",
              "    <tr>\n",
              "      <th>25%</th>\n",
              "      <td>0.390000</td>\n",
              "      <td>1.900000</td>\n",
              "      <td>0.070000</td>\n",
              "      <td>7.000000</td>\n",
              "      <td>22.000000</td>\n",
              "      <td>3.210000</td>\n",
              "      <td>0.550000</td>\n",
              "      <td>9.500000</td>\n",
              "      <td>5.000000</td>\n",
              "    </tr>\n",
              "    <tr>\n",
              "      <th>50%</th>\n",
              "      <td>0.520000</td>\n",
              "      <td>2.200000</td>\n",
              "      <td>0.079000</td>\n",
              "      <td>14.000000</td>\n",
              "      <td>38.000000</td>\n",
              "      <td>3.310000</td>\n",
              "      <td>0.620000</td>\n",
              "      <td>10.200000</td>\n",
              "      <td>6.000000</td>\n",
              "    </tr>\n",
              "    <tr>\n",
              "      <th>75%</th>\n",
              "      <td>0.640000</td>\n",
              "      <td>2.600000</td>\n",
              "      <td>0.090000</td>\n",
              "      <td>21.000000</td>\n",
              "      <td>62.000000</td>\n",
              "      <td>3.400000</td>\n",
              "      <td>0.730000</td>\n",
              "      <td>11.100000</td>\n",
              "      <td>6.000000</td>\n",
              "    </tr>\n",
              "    <tr>\n",
              "      <th>max</th>\n",
              "      <td>1.580000</td>\n",
              "      <td>15.500000</td>\n",
              "      <td>0.611000</td>\n",
              "      <td>72.000000</td>\n",
              "      <td>289.000000</td>\n",
              "      <td>4.010000</td>\n",
              "      <td>2.000000</td>\n",
              "      <td>14.900000</td>\n",
              "      <td>8.000000</td>\n",
              "    </tr>\n",
              "    <tr>\n",
              "      <th>+3_std</th>\n",
              "      <td>1.065000</td>\n",
              "      <td>6.768590</td>\n",
              "      <td>0.228662</td>\n",
              "      <td>47.255393</td>\n",
              "      <td>145.153766</td>\n",
              "      <td>3.774273</td>\n",
              "      <td>1.166670</td>\n",
              "      <td>13.619986</td>\n",
              "      <td>8.058731</td>\n",
              "    </tr>\n",
              "    <tr>\n",
              "      <th>-3_std</th>\n",
              "      <td>-0.009359</td>\n",
              "      <td>-1.690979</td>\n",
              "      <td>-0.053729</td>\n",
              "      <td>-15.505549</td>\n",
              "      <td>-52.218181</td>\n",
              "      <td>2.847954</td>\n",
              "      <td>0.149628</td>\n",
              "      <td>7.225980</td>\n",
              "      <td>3.213314</td>\n",
              "    </tr>\n",
              "  </tbody>\n",
              "</table>\n",
              "</div>"
            ],
            "text/plain": [
              "        volatile acidity  residual sugar    chlorides  free sulfur dioxide  \\\n",
              "count        1599.000000     1599.000000  1599.000000          1599.000000   \n",
              "mean            0.527821        2.538806     0.087467            15.874922   \n",
              "std             0.179060        1.409928     0.047065            10.460157   \n",
              "min             0.120000        0.900000     0.012000             1.000000   \n",
              "25%             0.390000        1.900000     0.070000             7.000000   \n",
              "50%             0.520000        2.200000     0.079000            14.000000   \n",
              "75%             0.640000        2.600000     0.090000            21.000000   \n",
              "max             1.580000       15.500000     0.611000            72.000000   \n",
              "+3_std          1.065000        6.768590     0.228662            47.255393   \n",
              "-3_std         -0.009359       -1.690979    -0.053729           -15.505549   \n",
              "\n",
              "        total sulfur dioxide           pH    sulphates      alcohol  \\\n",
              "count            1599.000000  1599.000000  1599.000000  1599.000000   \n",
              "mean               46.467792     3.311113     0.658149    10.422983   \n",
              "std                32.895324     0.154386     0.169507     1.065668   \n",
              "min                 6.000000     2.740000     0.330000     8.400000   \n",
              "25%                22.000000     3.210000     0.550000     9.500000   \n",
              "50%                38.000000     3.310000     0.620000    10.200000   \n",
              "75%                62.000000     3.400000     0.730000    11.100000   \n",
              "max               289.000000     4.010000     2.000000    14.900000   \n",
              "+3_std            145.153766     3.774273     1.166670    13.619986   \n",
              "-3_std            -52.218181     2.847954     0.149628     7.225980   \n",
              "\n",
              "            quality  \n",
              "count   1599.000000  \n",
              "mean       5.636023  \n",
              "std        0.807569  \n",
              "min        3.000000  \n",
              "25%        5.000000  \n",
              "50%        6.000000  \n",
              "75%        6.000000  \n",
              "max        8.000000  \n",
              "+3_std     8.058731  \n",
              "-3_std     3.213314  "
            ]
          },
          "execution_count": 7,
          "metadata": {},
          "output_type": "execute_result"
        }
      ],
      "source": [
        "desc_df = wines_df.describe()\n",
        "\n",
        "desc_df.loc['+3_std'] = desc_df.loc['mean'] + (desc_df.loc['std'] * 3)\n",
        "desc_df.loc['-3_std'] = desc_df.loc['mean'] - (desc_df.loc['std'] * 3)\n",
        "\n",
        "desc_df"
      ]
    },
    {
      "cell_type": "code",
      "execution_count": null,
      "metadata": {
        "execution": {
          "iopub.execute_input": "2020-09-17T22:41:59.093762Z",
          "iopub.status.busy": "2020-09-17T22:41:59.092947Z",
          "iopub.status.idle": "2020-09-17T22:41:59.098550Z",
          "shell.execute_reply": "2020-09-17T22:41:59.097730Z"
        },
        "papermill": {
          "duration": 0.025557,
          "end_time": "2020-09-17T22:41:59.098710",
          "exception": false,
          "start_time": "2020-09-17T22:41:59.073153",
          "status": "completed"
        },
        "tags": [],
        "id": "KUn5XGw7dgmY",
        "outputId": "acc31c3f-3c5d-473c-9e96-a9a20b85c0db"
      },
      "outputs": [
        {
          "name": "stdout",
          "output_type": "stream",
          "text": [
            "(1439, 8) (160, 8)\n"
          ]
        }
      ],
      "source": [
        "x_train, x_test, y_train, y_test = train_test_split(x, y, test_size=0.10, random_state=1)\n",
        "\n",
        "print(x_train.shape, x_test.shape)"
      ]
    },
    {
      "cell_type": "code",
      "execution_count": null,
      "metadata": {
        "execution": {
          "iopub.execute_input": "2020-09-17T22:41:59.130881Z",
          "iopub.status.busy": "2020-09-17T22:41:59.130260Z",
          "iopub.status.idle": "2020-09-17T22:41:59.144029Z",
          "shell.execute_reply": "2020-09-17T22:41:59.144505Z"
        },
        "papermill": {
          "duration": 0.032147,
          "end_time": "2020-09-17T22:41:59.144639",
          "exception": false,
          "start_time": "2020-09-17T22:41:59.112492",
          "status": "completed"
        },
        "tags": [],
        "id": "gzOBMCcCdgmY",
        "outputId": "fa03a913-3005-419b-f4d0-03e1f70e5ca2"
      },
      "outputs": [
        {
          "data": {
            "text/plain": [
              "LinearRegression()"
            ]
          },
          "execution_count": 9,
          "metadata": {},
          "output_type": "execute_result"
        }
      ],
      "source": [
        "regression_model = LinearRegression()\n",
        "\n",
        "regression_model.fit(x_train, y_train)"
      ]
    },
    {
      "cell_type": "code",
      "execution_count": null,
      "metadata": {
        "execution": {
          "iopub.execute_input": "2020-09-17T22:41:59.178468Z",
          "iopub.status.busy": "2020-09-17T22:41:59.177636Z",
          "iopub.status.idle": "2020-09-17T22:41:59.180353Z",
          "shell.execute_reply": "2020-09-17T22:41:59.180931Z"
        },
        "papermill": {
          "duration": 0.023184,
          "end_time": "2020-09-17T22:41:59.181087",
          "exception": false,
          "start_time": "2020-09-17T22:41:59.157903",
          "status": "completed"
        },
        "tags": [],
        "id": "71vKhjxSdgmZ",
        "outputId": "482da240-8039-4aca-ba30-6b5442287bb4"
      },
      "outputs": [
        {
          "name": "stdout",
          "output_type": "stream",
          "text": [
            "0.71875\n"
          ]
        }
      ],
      "source": [
        "y_predict = regression_model.predict(x_test)\n",
        "y_predict = np.round(y_predict)\n",
        "\n",
        "sum = 0\n",
        "for i,n in enumerate(y_test):\n",
        "    if n == y_predict[i]:\n",
        "        sum += 1\n",
        "print(sum/len(y_test))"
      ]
    },
    {
      "cell_type": "markdown",
      "metadata": {
        "papermill": {
          "duration": 0.013378,
          "end_time": "2020-09-17T22:41:59.210962",
          "exception": false,
          "start_time": "2020-09-17T22:41:59.197584",
          "status": "completed"
        },
        "tags": [],
        "id": "39M-CJkIdgmZ"
      },
      "source": [
        "# **Acknowledgement**\n",
        "* [ Multiple Regression Analysis in Python ](https://www.youtube.com/watch?v=M32ghIt1c88)"
      ]
    }
  ],
  "metadata": {
    "kernelspec": {
      "display_name": "Python 3",
      "language": "python",
      "name": "python3"
    },
    "language_info": {
      "codemirror_mode": {
        "name": "ipython",
        "version": 3
      },
      "file_extension": ".py",
      "mimetype": "text/x-python",
      "name": "python",
      "nbconvert_exporter": "python",
      "pygments_lexer": "ipython3",
      "version": "3.7.6"
    },
    "papermill": {
      "duration": 8.192055,
      "end_time": "2020-09-17T22:41:59.331422",
      "environment_variables": {},
      "exception": null,
      "input_path": "__notebook__.ipynb",
      "output_path": "__notebook__.ipynb",
      "parameters": {},
      "start_time": "2020-09-17T22:41:51.139367",
      "version": "2.1.0"
    },
    "colab": {
      "provenance": []
    }
  },
  "nbformat": 4,
  "nbformat_minor": 0
}